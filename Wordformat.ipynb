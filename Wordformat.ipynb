{
 "cells": [
  {
   "cell_type": "code",
   "execution_count": 3,
   "metadata": {},
   "outputs": [],
   "source": [
    "from IPython.core.display import display, HTML\n",
    "\n",
    "# Open file for reading\n",
    "pubmedfile = open(\"pubmed_result.txt\", \"r\")\n",
    "\n",
    "itemnumber = 0\n",
    "articlenumber = 0\n",
    "\n",
    "df = pubmedfile.readline()"
   ]
  },
  {
   "cell_type": "code",
   "execution_count": 5,
   "metadata": {},
   "outputs": [
    {
     "data": {
      "text/html": [
       "[1] Onder, Graziano; Rezza, Giovanni; Brusaferro, Silvio. \"Case-Fatality Rate and Characteristics of Patients Dying in Relation to COVID-19 in Italy.\" <i>JAMA</i> (2020)."
      ],
      "text/plain": [
       "<IPython.core.display.HTML object>"
      ]
     },
     "metadata": {},
     "output_type": "display_data"
    },
    {
     "data": {
      "text/html": [
       "[2] Perico, Luca; Benigni, Ariela; Remuzzi, Giuseppe. \"Should COVID-19 Concern Nephrologists? Why and to What Extent? The Emerging Impasse of Angiotensin Blockade.\" <i>Nephron</i> (2020): 1-9."
      ],
      "text/plain": [
       "<IPython.core.display.HTML object>"
      ]
     },
     "metadata": {},
     "output_type": "display_data"
    },
    {
     "data": {
      "text/html": [
       "[3] Chughtai, Abrar A; Seale, Holly; Islam, Md Saiful; Owais, Mohammad; Macintyre, C Raina. \"Policies on the use of respiratory protection for hospital health workers to protect from coronavirus disease (COVID-19).\" <i>International journal of nursing studies</i> 105, (2020): 103567."
      ],
      "text/plain": [
       "<IPython.core.display.HTML object>"
      ]
     },
     "metadata": {},
     "output_type": "display_data"
    },
    {
     "data": {
      "text/html": [
       "[4] Ramanathan, Kollengode; Antognini, David; Combes, Alain; Paden, Matthew; Zakhary, Bishoy; Ogino, Mark; MacLaren, Graeme; Brodie, Daniel; Shekar, Kiran. \"Planning and provision of ECMO services for severe ARDS during the COVID-19 pandemic and other outbreaks of emerging infectious diseases.\" <i>The Lancet. Respiratory medicine</i> (2020)."
      ],
      "text/plain": [
       "<IPython.core.display.HTML object>"
      ]
     },
     "metadata": {},
     "output_type": "display_data"
    },
    {
     "data": {
      "text/html": [
       "[5] Feng, Shuo; Shen, Chen; Xia, Nan; Song, Wei; Fan, Mengzhen; Cowling, Benjamin J. \"Rational use of face masks in the COVID-19 pandemic.\" <i>The Lancet. Respiratory medicine</i> (2020)."
      ],
      "text/plain": [
       "<IPython.core.display.HTML object>"
      ]
     },
     "metadata": {},
     "output_type": "display_data"
    },
    {
     "data": {
      "text/html": [
       "[6] Matthay, Michael A; Aldrich, J Matthew; Gotts, Jeffrey E. \"Treatment for severe acute respiratory distress syndrome from COVID-19.\" <i>The Lancet. Respiratory medicine</i> (2020)."
      ],
      "text/plain": [
       "<IPython.core.display.HTML object>"
      ]
     },
     "metadata": {},
     "output_type": "display_data"
    },
    {
     "data": {
      "text/html": [
       "[7] Buonsenso, Danilo; Pata, Davide; Chiaretti, Antonio. \"COVID-19 outbreak: less stethoscope, more ultrasound.\" <i>The Lancet. Respiratory medicine</i> (2020)."
      ],
      "text/plain": [
       "<IPython.core.display.HTML object>"
      ]
     },
     "metadata": {},
     "output_type": "display_data"
    },
    {
     "data": {
      "text/html": [
       "[8] McCloskey, Brian; Zumla, Alimuddin; Ippolito, Giuseppe; Blumberg, Lucille; Arbon, Paul; Cicero, Anita; Endericks, Tina; Lim, Poh Lian; Borodina, Maya. \"Mass gathering events and reducing further global spread of COVID-19: a political and public health dilemma.\" <i>Lancet (London, England)</i> (2020)."
      ],
      "text/plain": [
       "<IPython.core.display.HTML object>"
      ]
     },
     "metadata": {},
     "output_type": "display_data"
    },
    {
     "data": {
      "text/html": [
       "[9] Bangash, Mansoor N; Patel, Jaimin; Parekh, Dhruv. \"COVID-19 and the liver: little cause for concern.\" <i>The lancet. Gastroenterology & hepatology</i> (2020)."
      ],
      "text/plain": [
       "<IPython.core.display.HTML object>"
      ]
     },
     "metadata": {},
     "output_type": "display_data"
    },
    {
     "data": {
      "text/html": [
       "[10] Liu, Xiaoqing; Liu, Xuesong; Xu, Yonghao; Xu, Zhiheng; Huang, Yongbo; Chen, Sibei; Li, Shiyue; Liu, Dongdong; Lin, Zhimin; Li, Yimin. \"Ventilatory Ratio in Hypercapnic Mechanically Ventilated Patients with COVID-19 Associated ARDS.\" <i>American journal of respiratory and critical care medicine</i> (2020)."
      ],
      "text/plain": [
       "<IPython.core.display.HTML object>"
      ]
     },
     "metadata": {},
     "output_type": "display_data"
    },
    {
     "data": {
      "text/html": [
       "[11] Hu, Tony Y; Frieman, Matthew; Wolfram, Joy. \"Insights from nanomedicine into chloroquine efficacy against COVID-19.\" <i>Nature nanotechnology</i> (2020)."
      ],
      "text/plain": [
       "<IPython.core.display.HTML object>"
      ]
     },
     "metadata": {},
     "output_type": "display_data"
    },
    {
     "data": {
      "text/html": [
       "[12] Zastrow, Mark. \"South Korea is reporting intimate details of COVID-19 cases: has it helped?\" <i>Nature</i> (2020)."
      ],
      "text/plain": [
       "<IPython.core.display.HTML object>"
      ]
     },
     "metadata": {},
     "output_type": "display_data"
    },
    {
     "data": {
      "text/html": [
       "[13] van Staden, Cobus. \"COVID-19 and the crisis of national development.\" <i>Nature human behaviour</i> (2020)."
      ],
      "text/plain": [
       "<IPython.core.display.HTML object>"
      ]
     },
     "metadata": {},
     "output_type": "display_data"
    },
    {
     "data": {
      "text/html": [
       "[14] Szer, Jeff; Weisdorf, Daniel; Querol, Sergio; Foeken, Lydia; Madrigal, Alejandro. \"The impact of COVID-19 on the provision of donor hematopoietic stem cell products worldwide: collateral damage.\" <i>Bone marrow transplantation</i> (2020)."
      ],
      "text/plain": [
       "<IPython.core.display.HTML object>"
      ]
     },
     "metadata": {},
     "output_type": "display_data"
    },
    {
     "data": {
      "text/html": [
       "[15] Tai, Wanbo; He, Lei; Zhang, Xiujuan; Pu, Jing; Voronin, Denis; Jiang, Shibo; Zhou, Yusen; Du, Lanying. \"Characterization of the receptor-binding domain (RBD) of 2019 novel coronavirus: implication for development of RBD protein as a viral attachment inhibitor and vaccine.\" <i>Cellular & molecular immunology</i> (2020)."
      ],
      "text/plain": [
       "<IPython.core.display.HTML object>"
      ]
     },
     "metadata": {},
     "output_type": "display_data"
    },
    {
     "data": {
      "text/html": [
       "[16] Zheng, Meijuan; Gao, Yong; Wang, Gang; Song, Guobin; Liu, Siyu; Sun, Dandan; Xu, Yuanhong; Tian, Zhigang. \"Functional exhaustion of antiviral lymphocytes in COVID-19 patients.\" <i>Cellular & molecular immunology</i> (2020)."
      ],
      "text/plain": [
       "<IPython.core.display.HTML object>"
      ]
     },
     "metadata": {},
     "output_type": "display_data"
    },
    {
     "data": {
      "text/html": [
       "[17] Zheng, Hong-Yi; Zhang, Mi; Yang, Cui-Xian; Zhang, Nian; Wang, Xi-Cheng; Yang, Xin-Ping; Dong, Xing-Qi; Zheng, Yong-Tang. \"Elevated exhaustion levels and reduced functional diversity of T cells in peripheral blood may predict severe progression in COVID-19 patients.\" <i>Cellular & molecular immunology</i> (2020)."
      ],
      "text/plain": [
       "<IPython.core.display.HTML object>"
      ]
     },
     "metadata": {},
     "output_type": "display_data"
    },
    {
     "data": {
      "text/html": [
       "[18] Dong, Lu; Bouey, Jennifer. \"Public Mental Health Crisis during COVID-19 Pandemic, China.\" <i>Emerging infectious diseases</i> 26, no. 7 (2020)."
      ],
      "text/plain": [
       "<IPython.core.display.HTML object>"
      ]
     },
     "metadata": {},
     "output_type": "display_data"
    },
    {
     "data": {
      "text/html": [
       "[19] Zhou, Xiaoyun; Snoswell, Centaine L; Harding, Louise E; Bambling, Matthew; Edirippulige, Sisira; Bai, Xuejun; Smith, Anthony C. \"The Role of Telehealth in Reducing the Mental Health Burden from COVID-19.\" <i>Telemedicine journal and e-health : the official journal of the American</i> (2020)."
      ],
      "text/plain": [
       "<IPython.core.display.HTML object>"
      ]
     },
     "metadata": {},
     "output_type": "display_data"
    },
    {
     "data": {
      "text/html": [
       "[20] Garfin, Dana Rose; Silver, Roxane Cohen; Holman, E Alison. \"The novel coronavirus (COVID-2019) outbreak: Amplification of public health consequences by media exposure.\" <i>Health psychology : official journal of the Division of Health Psychology,</i> (2020)."
      ],
      "text/plain": [
       "<IPython.core.display.HTML object>"
      ]
     },
     "metadata": {},
     "output_type": "display_data"
    },
    {
     "data": {
      "text/html": [
       "[21] Emanuel, Ezekiel J; Persad, Govind; Upshur, Ross; Thome, Beatriz; Parker, Michael; Glickman, Aaron; Zhang, Cathy; Boyle, Connor; Smith, Maxwell; Phillips, James P. \"Fair Allocation of Scarce Medical Resources in the Time of Covid-19.\" <i>The New England journal of medicine</i> (2020)."
      ],
      "text/plain": [
       "<IPython.core.display.HTML object>"
      ]
     },
     "metadata": {},
     "output_type": "display_data"
    },
    {
     "data": {
      "text/html": [
       "[22] Ioannidis, John P A. \"Coronavirus disease 2019: the harms of exaggerated information and non-evidence-based measures.\" <i>European journal of clinical investigation</i> (2020): e13223."
      ],
      "text/plain": [
       "<IPython.core.display.HTML object>"
      ]
     },
     "metadata": {},
     "output_type": "display_data"
    },
    {
     "data": {
      "text/html": [
       "[23] Nickel, Christian Hans; Bingisser, Roland. \"Mimics and chameleons of COVID-19.\" <i>Swiss medical weekly</i> 150, (2020): w20231."
      ],
      "text/plain": [
       "<IPython.core.display.HTML object>"
      ]
     },
     "metadata": {},
     "output_type": "display_data"
    },
    {
     "data": {
      "text/html": [
       "[24] Lai, Jianbo; Ma, Simeng; Wang, Ying; Cai, Zhongxiang; Hu, Jianbo; Wei, Ning; Wu, Jiang; Du, Hui; Chen, Tingting; Li, Ruiting; Tan, Huawei; Kang, Lijun; Yao, Lihua; Huang, Manli; Wang, Huafen; Wang, Gaohua; Liu, Zhongchun; Hu, Shaohua. \"Factors Associated With Mental Health Outcomes Among Health Care Workers Exposed to Coronavirus Disease 2019.\" <i>JAMA network open</i> 3, no. 3 (2020): e203976."
      ],
      "text/plain": [
       "<IPython.core.display.HTML object>"
      ]
     },
     "metadata": {},
     "output_type": "display_data"
    },
    {
     "data": {
      "text/html": [
       "[25] Semple, Sean; Cherrie, John W. \"Covid-19: Protecting Worker Health.\" <i>Annals of work exposures and health</i> (2020)."
      ],
      "text/plain": [
       "<IPython.core.display.HTML object>"
      ]
     },
     "metadata": {},
     "output_type": "display_data"
    },
    {
     "data": {
      "text/html": [
       "[26] Di Pasquale, Giuseppe. \"[COVID-19 coronavirus: what implications for Cardiology?]\" <i>Giornale italiano di cardiologia (2006)</i> 21, no. 4 (2020): 243-245."
      ],
      "text/plain": [
       "<IPython.core.display.HTML object>"
      ]
     },
     "metadata": {},
     "output_type": "display_data"
    },
    {
     "data": {
      "text/html": [
       "[27] Ahima, Rexford S; Jackson, Sarah; Casadevall, Arturo; Semenza, Gregg L; Tomaselli, Gordon; Collins, Kathleen L; Lieberman, Andrew P; Martin, Donna M; Reddy, Pavan. \"Changing the editorial process at JCI and JCI Insight in response to the COVID-19 pandemic.\" <i>The Journal of clinical investigation</i> (2020)."
      ],
      "text/plain": [
       "<IPython.core.display.HTML object>"
      ]
     },
     "metadata": {},
     "output_type": "display_data"
    },
    {
     "data": {
      "text/html": [
       "[28] Craig, A T; Heywood, A E; Hall, J. \"Risk of COVID-19 importation to the Pacific islands through global air travel.\" <i>Epidemiology and infection</i> (2020): 1-16."
      ],
      "text/plain": [
       "<IPython.core.display.HTML object>"
      ]
     },
     "metadata": {},
     "output_type": "display_data"
    },
    {
     "data": {
      "text/html": [
       "[29] Mao, Kang; Zhang, Hua; Yang, Zhugen. \"Can a Paper-Based Device Trace COVID-19 Sources with Wastewater-Based Epidemiology?\" <i>Environmental science & technology</i> (2020)."
      ],
      "text/plain": [
       "<IPython.core.display.HTML object>"
      ]
     },
     "metadata": {},
     "output_type": "display_data"
    },
    {
     "data": {
      "text/html": [
       "[30] Qu, Guangbo; Li, Xiangdong; Hu, Ligang; Jiang, Guibin. \"An Imperative Need for Research on the Role of Environmental Factors in Transmission of Novel Coronavirus (COVID-19).\" <i>Environmental science & technology</i> (2020)."
      ],
      "text/plain": [
       "<IPython.core.display.HTML object>"
      ]
     },
     "metadata": {},
     "output_type": "display_data"
    },
    {
     "data": {
      "text/html": [
       "[31] Ficarra, Vincenzo; Novara, Giacomo; Abrate, Alberto; Bartoletti, Riccardo; Crestani, Alessandro; De Nunzio, Cosimo; Giannarini, Gianluca; Gregori, Andrea; Liguori, Giovanni; Mirone, Vincenzo; Pavan, Nicola; Scarpa, Roberto M; Simonato, Alchiede; Trombetta, Carlo; Tubaro, Andrea; Porpiglia, Francesco. \"Urology practice during COVID-19 pandemic.\" <i>Minerva urologica e nefrologica = The Italian journal of urology and nephrology</i> (2020)."
      ],
      "text/plain": [
       "<IPython.core.display.HTML object>"
      ]
     },
     "metadata": {},
     "output_type": "display_data"
    },
    {
     "data": {
      "text/html": [
       "[32] Ludvigsson, Jonas F. \"Systematic review of COVID-19 in children show milder cases and a better prognosis than adults.\" <i>Acta paediatrica (Oslo, Norway : 1992)</i> (2020)."
      ],
      "text/plain": [
       "<IPython.core.display.HTML object>"
      ]
     },
     "metadata": {},
     "output_type": "display_data"
    },
    {
     "data": {
      "text/html": [
       "[33] Choi, Kristen R; Skrine Jeffers, Kia; Logsdon, M Cynthia. \"Nursing and the Novel Coronavirus: Risks and Responsibilities in a Global Outbreak.\" <i>Journal of advanced nursing</i> (2020)."
      ],
      "text/plain": [
       "<IPython.core.display.HTML object>"
      ]
     },
     "metadata": {},
     "output_type": "display_data"
    },
    {
     "data": {
      "text/html": [
       "[34] Mandal, Sandip; Bhatnagar, Tarun; Arinaminpathy, Nimalan; Agarwal, Anup; Chowdhury, Amartya; Murhekar, Manoj; Gangakhedkar, Raman R; Sarkar, Swarup. \"Prudent public health intervention strategies to control the coronavirus disease 2019 transmission in India: A mathematical model-based approach.\" <i>The Indian journal of medical research</i> (2020)."
      ],
      "text/plain": [
       "<IPython.core.display.HTML object>"
      ]
     },
     "metadata": {},
     "output_type": "display_data"
    },
    {
     "data": {
      "text/html": [
       "[35] Tandon, Prakash N. \"COVID-19: Impact on health of people & wealth of nations.\" <i>The Indian journal of medical research</i> (2020)."
      ],
      "text/plain": [
       "<IPython.core.display.HTML object>"
      ]
     },
     "metadata": {},
     "output_type": "display_data"
    },
    {
     "data": {
      "text/html": [
       "[36] Agarwal, Anup; Nagi, Nazia; Chatterjee, Pranab; Sarkar, Swarup; Mourya, Devendra; Sahay, Rima Rakeshkumar; Bhatia, Rajesh. \"Guidance for building a dedicated health facility to contain the spread of the 2019 novel coronavirus outbreak.\" <i>The Indian journal of medical research</i> (2020)."
      ],
      "text/plain": [
       "<IPython.core.display.HTML object>"
      ]
     },
     "metadata": {},
     "output_type": "display_data"
    },
    {
     "data": {
      "text/html": [
       "[37] Bhatnagar, Tarun; Murhekar, Manoj V; Soneja, Manish; Gupta, Nivedita; Giri, Sidhartha; Wig, Naveet; Gangakhedkar, Raman. \"Lopinavir/ritonavir combination therapy amongst symptomatic coronavirus disease 2019 patients in India: Protocol for restricted public health emergency use.\" <i>The Indian journal of medical research</i> (2020)."
      ],
      "text/plain": [
       "<IPython.core.display.HTML object>"
      ]
     },
     "metadata": {},
     "output_type": "display_data"
    },
    {
     "data": {
      "text/html": [
       "[38] Sarzi-Puttini, Piercarlo; Giorgi, Valeria; Sirotti, Silvia; Marotto, Daniela; Ardizzone, Sandro; Rizzardini, Giuliano; Antinori, Spinello; Galli, Massimo. \"COVID-19, cytokines and immunosuppression: what can we learn from severe acute respiratory syndrome?\" <i>Clinical and experimental rheumatology</i> (2020)."
      ],
      "text/plain": [
       "<IPython.core.display.HTML object>"
      ]
     },
     "metadata": {},
     "output_type": "display_data"
    },
    {
     "data": {
      "text/html": [
       "[39] Kumar, Deepali; Manuel, Oriol; Natori, Yoichiro; Egawa, Hiroto; Grossi, Paolo; Han, Sang-Hoon; Fernandez-Ruiz, Mario; Humar, Atul. \"COVID-19: A Global Transplant Perspective on Successfully Navigating a Pandemic.\" <i>American journal of transplantation : official journal of the American Society of</i> (2020)."
      ],
      "text/plain": [
       "<IPython.core.display.HTML object>"
      ]
     },
     "metadata": {},
     "output_type": "display_data"
    },
    {
     "data": {
      "text/html": [
       "[40] . \"Alzheimer's Disease Research Enterprise in the Era of COVID-19/SARS-CoV-2.\" <i>Alzheimer's & dementia : the journal of the Alzheimer's Association</i> (2020)."
      ],
      "text/plain": [
       "<IPython.core.display.HTML object>"
      ]
     },
     "metadata": {},
     "output_type": "display_data"
    },
    {
     "data": {
      "text/html": [
       "[41] Britton, Philip N; Marais, Ben J. \"Questions raised by COVID-19 case descriptions.\" <i>Journal of paediatrics and child health</i> (2020)."
      ],
      "text/plain": [
       "<IPython.core.display.HTML object>"
      ]
     },
     "metadata": {},
     "output_type": "display_data"
    },
    {
     "data": {
      "text/html": [
       "[42] Zheng, Yue; Lai, Wei. \"Dermatology staff participate in fight against Covid-19 in China.\" <i>Journal of the European Academy of Dermatology and Venereology : JEADV</i> (2020)."
      ],
      "text/plain": [
       "<IPython.core.display.HTML object>"
      ]
     },
     "metadata": {},
     "output_type": "display_data"
    },
    {
     "data": {
      "text/html": [
       "[43] Radi, G; Diotallevi, F; Campanati, A; Offidani, A. \"Global coronavirus pandemic (2019-nCOV): Implication for an Italian medium size dermatological clinic of a ii level hospital.\" <i>Journal of the European Academy of Dermatology and Venereology : JEADV</i> (2020)."
      ],
      "text/plain": [
       "<IPython.core.display.HTML object>"
      ]
     },
     "metadata": {},
     "output_type": "display_data"
    },
    {
     "data": {
      "text/html": [
       "[44] Qian, Guoqing; Yang, Naibin; Ma, Ada Hoi Yan; Wang, Liping; Li, Guoxiang; Chen, Xueqin; Chen, Xiaomin. \"A COVID-19 Transmission within a family cluster by presymptomatic infectors in China.\" <i>Clinical infectious diseases : an official publication of the Infectious Diseases</i> (2020)."
      ],
      "text/plain": [
       "<IPython.core.display.HTML object>"
      ]
     },
     "metadata": {},
     "output_type": "display_data"
    },
    {
     "data": {
      "text/html": [
       "[45] Viceconte, Giulio; Petrosillo, Nicola. \"COVID-19 R0: Magic number or conundrum?\" <i>Infectious disease reports</i> 12, no. 1 (2020): 8516."
      ],
      "text/plain": [
       "<IPython.core.display.HTML object>"
      ]
     },
     "metadata": {},
     "output_type": "display_data"
    },
    {
     "data": {
      "text/html": [
       "[46] Peto, Julian. \"Covid-19 mass testing facilities could end the epidemic rapidly.\" <i>BMJ (Clinical research ed.)</i> 368, (2020): m1163."
      ],
      "text/plain": [
       "<IPython.core.display.HTML object>"
      ]
     },
     "metadata": {},
     "output_type": "display_data"
    },
    {
     "data": {
      "text/html": [
       "[47] Roussel, Yanis; Giraud-Gatineau, Audrey; Jimeno, Marie-Therese; Rolain, Jean-Marc; Zandotti, Christine; Colson, Philippe; Raoult, Didier. \"SARS-CoV-2: fear versus data.\" <i>International journal of antimicrobial agents</i> (2020): 105947."
      ],
      "text/plain": [
       "<IPython.core.display.HTML object>"
      ]
     },
     "metadata": {},
     "output_type": "display_data"
    },
    {
     "data": {
      "text/html": [
       "[48] Wang, Li-Sheng; Wang, Yi-Ru; Ye, Da-Wei; Liu, Qing-Quan. \"A review of the 2019 Novel Coronavirus (COVID-19) based on current evidence.\" <i>International journal of antimicrobial agents</i> (2020): 105948."
      ],
      "text/plain": [
       "<IPython.core.display.HTML object>"
      ]
     },
     "metadata": {},
     "output_type": "display_data"
    },
    {
     "data": {
      "text/html": [
       "[49] Lotfinejad, N; Peters, A; Pittet, D. \"Hand hygiene and the novel coronavirus pandemic: The role of healthcare workers.\" <i>The Journal of hospital infection</i> (2020)."
      ],
      "text/plain": [
       "<IPython.core.display.HTML object>"
      ]
     },
     "metadata": {},
     "output_type": "display_data"
    },
    {
     "data": {
      "text/html": [
       "[50] Driggin, Elissa; Madhavan, Mahesh V; Bikdeli, Behnood; Chuich, Taylor; Laracy, Justin; Bondi-Zoccai, Giuseppe; Brown, Tyler S; Nigoghossian, Caroline Der; Zidar, David A; Haythe, Jennifer; Brodie, Daniel; Beckman, Joshua A; Kirtane, Ajay J; Stone, Gregg W; Krumholz, Harlan M; Parikh, Sahil A. \"Cardiovascular Considerations for Patients, Health Care Workers, and Health Systems During the Coronavirus Disease 2019 (COVID-19) Pandemic.\" <i>Journal of the American College of Cardiology</i> (2020)."
      ],
      "text/plain": [
       "<IPython.core.display.HTML object>"
      ]
     },
     "metadata": {},
     "output_type": "display_data"
    },
    {
     "data": {
      "text/html": [
       "[51] Francesco, Cortiula; Pettke, Aleksandra; Michele, Bartoletti; Fabio, Puglisi; Helleday, Thomas. \"Managing COVID-19 in the oncology clinic and avoiding the distraction effect.\" <i>Annals of oncology : official journal of the European Society for Medical</i> (2020)."
      ],
      "text/plain": [
       "<IPython.core.display.HTML object>"
      ]
     },
     "metadata": {},
     "output_type": "display_data"
    },
    {
     "data": {
      "text/html": [
       "[52] Lei, Pinggui; Fan, Bing; Mao, Jujiang; Wang, Pingxian. \"Comprehensive analysis for diagnosis of novel coronavirus disease (COVID-19) infection.\" <i>The Journal of infection</i> (2020)."
      ],
      "text/plain": [
       "<IPython.core.display.HTML object>"
      ]
     },
     "metadata": {},
     "output_type": "display_data"
    },
    {
     "data": {
      "text/html": [
       "[53] Lei, Pinggui; Fan, Bing; Yuan, Yingnan. \"The evolution of CT characteristics in the patients with COVID-19 pneumonia.\" <i>The Journal of infection</i> (2020)."
      ],
      "text/plain": [
       "<IPython.core.display.HTML object>"
      ]
     },
     "metadata": {},
     "output_type": "display_data"
    },
    {
     "data": {
      "text/html": [
       "[54] Luan, Junwen; Lu, Yue; Jin, Xiaolu; Zhang, Leiliang. \"Spike protein recognition of mammalian ACE2 predicts the host range and an optimized ACE2 for SARS-CoV-2 infection.\" <i>Biochemical and biophysical research communications</i> (2020)."
      ],
      "text/plain": [
       "<IPython.core.display.HTML object>"
      ]
     },
     "metadata": {},
     "output_type": "display_data"
    },
    {
     "data": {
      "text/html": [
       "[55] Zeri, Fabrizio; Naroo, Shehzad A. \"Contact lens practice in the time of COVID-19.\" <i>Contact lens & anterior eye : the journal of the British Contact Lens Association</i> (2020)."
      ],
      "text/plain": [
       "<IPython.core.display.HTML object>"
      ]
     },
     "metadata": {},
     "output_type": "display_data"
    },
    {
     "data": {
      "text/html": [
       "[56] Wu, Cai-Neng; Xia, Lin-Zhi; Li, Kun-Hong; Ma, Wu-Hua; Yu, Dong-Nan; Qu, Bo; Li, Bi-Xi; Cao, Ying. \"High-flow nasal-oxygenation-assisted fibreoptic tracheal intubation in critically ill patients with COVID-19 pneumonia: a prospective randomised controlled trial.\" <i>British journal of anaesthesia</i> (2020)."
      ],
      "text/plain": [
       "<IPython.core.display.HTML object>"
      ]
     },
     "metadata": {},
     "output_type": "display_data"
    },
    {
     "data": {
      "text/html": [
       "[57] Clerkin, Kevin J; Fried, Justin A; Raikhelkar, Jayant; Sayer, Gabriel; Griffin, Jan M; Masoumi, Amirali; Jain, Sneha S; Burkhoff, Daniel; Kumaraiah, Deepa; Rabbani, LeRoy; Schwartz, Allan; Uriel, Nir. \"Coronavirus Disease 2019 (COVID-19) and Cardiovascular Disease.\" <i>Circulation</i> (2020)."
      ],
      "text/plain": [
       "<IPython.core.display.HTML object>"
      ]
     },
     "metadata": {},
     "output_type": "display_data"
    },
    {
     "data": {
      "text/html": [
       "[58] Chang, De; Mo, Guoxin; Yuan, Xin; Tao, Yi; Peng, Xiaohua; Wang, Fusheng; Xie, Lixin; Sharma, Lokesh; Dela Cruz, Charles S; Qin, Enqiang. \"Time Kinetics of Viral Clearance and Resolution of Symptoms in Novel Coronavirus Infection.\" <i>American journal of respiratory and critical care medicine</i> (2020)."
      ],
      "text/plain": [
       "<IPython.core.display.HTML object>"
      ]
     },
     "metadata": {},
     "output_type": "display_data"
    },
    {
     "data": {
      "text/html": [
       "[59] Kotfis, Katarzyna; Skonieczna-Zydecka, Karolina. \"COVID-19: gastrointestinal symptoms and potential sources of 2019-nCoV transmission.\" <i>Anaesthesiology intensive therapy</i> (2020)."
      ],
      "text/plain": [
       "<IPython.core.display.HTML object>"
      ]
     },
     "metadata": {},
     "output_type": "display_data"
    },
    {
     "data": {
      "text/html": [
       "[60] Goh, Ken J; Choong, Mindy Cm; Cheong, Elizabeth Ht; Kalimuddin, Shirin; Duu Wen, Sewa; Phua, Ghee Chee; Chan, Kian Sing; Haja Mohideen, Salahudeen. \"Rapid Progression to Acute Respiratory Distress Syndrome: Review of Current Understanding of Critical Illness from COVID-19 Infection.\" <i>Annals of the Academy of Medicine, Singapore</i> 49, no. 1 (2020): 1-9."
      ],
      "text/plain": [
       "<IPython.core.display.HTML object>"
      ]
     },
     "metadata": {},
     "output_type": "display_data"
    },
    {
     "data": {
      "text/html": [
       "[61] Ho, Cyrus Sh; Chee, Cornelia Yi; Ho, Roger Cm. \"Mental Health Strategies to Combat the Psychological Impact of COVID-19 Beyond Paranoia and Panic.\" <i>Annals of the Academy of Medicine, Singapore</i> 49, no. 1 (2020): 1-3."
      ],
      "text/plain": [
       "<IPython.core.display.HTML object>"
      ]
     },
     "metadata": {},
     "output_type": "display_data"
    },
    {
     "data": {
      "text/html": [
       "[62] Zhang, Jing-Feng; Yan, Kun; Ye, Hong-Hua; Lin, Jie; Zheng, Jian-Jun; Cai, Ting. \"SARS-CoV-2 turned positive in a discharged patient with COVID-19 arouses concern regarding the present standard for discharge.\" <i>International journal of infectious diseases : IJID : official publication of the</i> (2020)."
      ],
      "text/plain": [
       "<IPython.core.display.HTML object>"
      ]
     },
     "metadata": {},
     "output_type": "display_data"
    },
    {
     "data": {
      "text/html": [
       "[63] Peyronnet, Violaine; Sibiude, Jeanne; Deruelle, Philippe; Huissoud, Cyril; Lescure, Xavier; Lucet, Jean-Christophe; Mandelbrot, Laurent; Nisand, Israel; Vayssiere, Christophe; Yazpandanah, Yazdan; Luton, Dominique; Picone, Olivier. \"[Infection with SARS-CoV-2 in pregnancy. Information and proposed care. CNGOF.]\" <i>Gynecologie, obstetrique, fertilite & senologie</i> (2020)."
      ],
      "text/plain": [
       "<IPython.core.display.HTML object>"
      ]
     },
     "metadata": {},
     "output_type": "display_data"
    },
    {
     "data": {
      "text/html": [
       "[64] Filippi, Andrea Riccardo; Russi, Elvio; Magrini, Stefano Maria; Corvo, Renzo. \"COVID-19 OUTBREAK IN NORTHERN ITALY: FIRST PRACTICAL INDICATIONS FOR RADIOTHERAPY DEPARTMENTS.\" <i>International journal of radiation oncology, biology, physics</i> (2020)."
      ],
      "text/plain": [
       "<IPython.core.display.HTML object>"
      ]
     },
     "metadata": {},
     "output_type": "display_data"
    },
    {
     "data": {
      "text/html": [
       "[65] Welt, Frederick G P; Shah, Pinak B; Aronow, Herbert D; Bortnick, Anna E; Henry, Timothy D; Sherwood, Matthew W; Young, Michael N; Davidson, Laura J; Kadavath, Sabeeda; Mahmud, Ehtisham; Kirtane, Ajay J. \"Catheterization Laboratory Considerations During the Coronavirus (COVID-19) Pandemic: From ACC's Interventional Council and SCAI.\" <i>Journal of the American College of Cardiology</i> (2020)."
      ],
      "text/plain": [
       "<IPython.core.display.HTML object>"
      ]
     },
     "metadata": {},
     "output_type": "display_data"
    },
    {
     "data": {
      "text/html": [
       "[66] Lebwohl, Mark; Rivera-Oyola, Ryan; Murrell, Dedee F. \"Should biologics for psoriasis be interrupted in the era of COVID-19?\" <i>Journal of the American Academy of Dermatology</i> (2020)."
      ],
      "text/plain": [
       "<IPython.core.display.HTML object>"
      ]
     },
     "metadata": {},
     "output_type": "display_data"
    },
    {
     "data": {
      "text/html": [
       "[67] Zhou, Zili; Zhao, Ning; Shu, Yan; Han, Shengbo; Chen, Bin; Shu, Xiaogang. \"Effect of gastrointestinal symptoms on patients infected with COVID-19.\" <i>Gastroenterology</i> (2020)."
      ],
      "text/plain": [
       "<IPython.core.display.HTML object>"
      ]
     },
     "metadata": {},
     "output_type": "display_data"
    },
    {
     "data": {
      "text/html": [
       "[68] Lai, Chih-Cheng; Wang, Cheng-Yi; Wang, Ya-Hui; Hsueh, Shun-Chung; Ko, Wen-Chien; Hsueh, Po-Ren. \"Global epidemiology of coronavirus disease 2019: disease incidence, daily cumulative index, mortality, and their association with country healthcare resources and economic status.\" <i>International journal of antimicrobial agents</i> (2020): 105946."
      ],
      "text/plain": [
       "<IPython.core.display.HTML object>"
      ]
     },
     "metadata": {},
     "output_type": "display_data"
    },
    {
     "data": {
      "text/html": [
       "[69] Hong, Hao; Wang, Yuan; Chung, Hung-Tao; Chen, Chih-Jung. \"Clinical characteristics of novel coronavirus disease 2019 (COVID-19) in newborns, infants and children.\" <i>Pediatrics and neonatology</i> (2020)."
      ],
      "text/plain": [
       "<IPython.core.display.HTML object>"
      ]
     },
     "metadata": {},
     "output_type": "display_data"
    },
    {
     "data": {
      "text/html": [
       "[70] Arshad Ali, Shajeea; Baloch, Mariam; Ahmed, Naseem; Arshad Ali, Asadullah; Iqbal, Ayman. \"The outbreak of Coronavirus Disease 2019 (COVID-19)-An emerging global health threat.\" <i>Journal of infection and public health</i> (2020)."
      ],
      "text/plain": [
       "<IPython.core.display.HTML object>"
      ]
     },
     "metadata": {},
     "output_type": "display_data"
    },
    {
     "data": {
      "text/html": [
       "[71] Zhai, Yusen; Du, Xue. \"Mental health care for international Chinese students affected by the COVID-19 outbreak.\" <i>The lancet. Psychiatry</i> 7, no. 4 (2020): e22."
      ],
      "text/plain": [
       "<IPython.core.display.HTML object>"
      ]
     },
     "metadata": {},
     "output_type": "display_data"
    },
    {
     "data": {
      "text/html": [
       "[72] Yao, Hao; Chen, Jian-Hua; Xu, Yi-Feng. \"Patients with mental health disorders in the COVID-19 epidemic.\" <i>The lancet. Psychiatry</i> 7, no. 4 (2020): e21."
      ],
      "text/plain": [
       "<IPython.core.display.HTML object>"
      ]
     },
     "metadata": {},
     "output_type": "display_data"
    },
    {
     "data": {
      "text/html": [
       "[73] Tuite, Ashleigh R; Ng, Victoria; Rees, Erin; Fisman, David. \"Estimation of COVID-19 outbreak size in Italy.\" <i>The Lancet. Infectious diseases</i> (2020)."
      ],
      "text/plain": [
       "<IPython.core.display.HTML object>"
      ]
     },
     "metadata": {},
     "output_type": "display_data"
    },
    {
     "data": {
      "text/html": [
       "[74] Liu, Yang; Yan, Li-Meng; Wan, Lagen; Xiang, Tian-Xin; Le, Aiping; Liu, Jia-Ming; Peiris, Malik; Poon, Leo L M; Zhang, Wei. \"Viral dynamics in mild and severe cases of COVID-19.\" <i>The Lancet. Infectious diseases</i> (2020)."
      ],
      "text/plain": [
       "<IPython.core.display.HTML object>"
      ]
     },
     "metadata": {},
     "output_type": "display_data"
    },
    {
     "data": {
      "text/html": [
       "[75] Webster, Paul. \"Canada and COVID-19: learning from SARS.\" <i>Lancet (London, England)</i> 395, no. 10228 (2020): 936-937."
      ],
      "text/plain": [
       "<IPython.core.display.HTML object>"
      ]
     },
     "metadata": {},
     "output_type": "display_data"
    },
    {
     "data": {
      "text/html": [
       "[76] Horton, Richard. \"Offline: COVID-19-a reckoning.\" <i>Lancet (London, England)</i> 395, no. 10228 (2020): 935."
      ],
      "text/plain": [
       "<IPython.core.display.HTML object>"
      ]
     },
     "metadata": {},
     "output_type": "display_data"
    },
    {
     "data": {
      "text/html": [
       "[77] The Lancet. \"COVID-19: protecting health-care workers.\" <i>Lancet (London, England)</i> 395, no. 10228 (2020): 922."
      ],
      "text/plain": [
       "<IPython.core.display.HTML object>"
      ]
     },
     "metadata": {},
     "output_type": "display_data"
    },
    {
     "data": {
      "text/html": [
       "[78] Armitage, Richard; Nellums, Laura B. \"COVID-19 and the consequences of isolating the elderly.\" <i>The Lancet. Public health</i> (2020)."
      ],
      "text/plain": [
       "<IPython.core.display.HTML object>"
      ]
     },
     "metadata": {},
     "output_type": "display_data"
    },
    {
     "data": {
      "text/html": [
       "[79] Fisher, Dale; Wilder-Smith, Annelies. \"The global community needs to swiftly ramp up the response to contain COVID-19.\" <i>Lancet (London, England)</i> (2020)."
      ],
      "text/plain": [
       "<IPython.core.display.HTML object>"
      ]
     },
     "metadata": {},
     "output_type": "display_data"
    },
    {
     "data": {
      "text/html": [
       "[80] Mitja, Oriol; Clotet, Bonaventura. \"Use of antiviral drugs to reduce COVID-19 transmission.\" <i>The Lancet. Global health</i> (2020)."
      ],
      "text/plain": [
       "<IPython.core.display.HTML object>"
      ]
     },
     "metadata": {},
     "output_type": "display_data"
    },
    {
     "data": {
      "text/html": [
       "[81] Poole, Danielle N; Escudero, Daniel J; Gostin, Lawrence O; Leblang, David; Talbot, Elizabeth A. \"Responding to the COVID-19 pandemic in complex humanitarian crises.\" <i>International journal for equity in health</i> 19, no. 1 (2020): 41."
      ],
      "text/plain": [
       "<IPython.core.display.HTML object>"
      ]
     },
     "metadata": {},
     "output_type": "display_data"
    },
    {
     "data": {
      "text/html": [
       "[82] Lima, Carlos Kennedy Tavares; Carvalho, Poliana Moreira de Medeiros; Lima, Igor de Araujo Araruna Silva; Nunes, Jose Victor Alexandre de Oliveira; Saraiva, Jeferson Steves; de Souza, Ricardo Inacio; da Silva, Claudio Gleidiston Lima; Neto, Modesto Leite Rolim. \"The emotional impact of Coronavirus 2019-nCoV (new Coronavirus disease).\" <i>Psychiatry research</i> 287, (2020): 112915."
      ],
      "text/plain": [
       "<IPython.core.display.HTML object>"
      ]
     },
     "metadata": {},
     "output_type": "display_data"
    },
    {
     "data": {
      "text/html": [
       "[83] Niud, Yan; Xu, Fujie. \"Deciphering the power of isolation in controlling COVID-19 outbreaks.\" <i>The Lancet. Global health</i> 8, no. 4 (2020): e452-e453."
      ],
      "text/plain": [
       "<IPython.core.display.HTML object>"
      ]
     },
     "metadata": {},
     "output_type": "display_data"
    },
    {
     "data": {
      "text/html": [
       "[84] Legido-Quigley, Helena; Mateos-Garcia, Jose Tomas; Campos, Vanesa Regulez; Gea-Sanchez, Montserrat; Muntaner, Carles; McKee, Martin. \"The resilience of the Spanish health system against the COVID-19 pandemic.\" <i>The Lancet. Public health</i> (2020)."
      ],
      "text/plain": [
       "<IPython.core.display.HTML object>"
      ]
     },
     "metadata": {},
     "output_type": "display_data"
    },
    {
     "data": {
      "text/html": [
       "[85] Flahault, Antoine. \"COVID-19 cacophony: is there any orchestra conductor?\" <i>Lancet (London, England)</i> (2020)."
      ],
      "text/plain": [
       "<IPython.core.display.HTML object>"
      ]
     },
     "metadata": {},
     "output_type": "display_data"
    },
    {
     "data": {
      "text/html": [
       "[86] Kandel, Nirmal; Chungong, Stella; Omaar, Abbas; Xing, Jun. \"Health security capacities in the context of COVID-19 outbreak: an analysis of International Health Regulations annual report data from 182 countries.\" <i>Lancet (London, England)</i> (2020)."
      ],
      "text/plain": [
       "<IPython.core.display.HTML object>"
      ]
     },
     "metadata": {},
     "output_type": "display_data"
    },
    {
     "data": {
      "text/html": [
       "[87] Jacobsen, Kathryn H. \"Will COVID-19 generate global preparedness?\" <i>Lancet (London, England)</i> (2020)."
      ],
      "text/plain": [
       "<IPython.core.display.HTML object>"
      ]
     },
     "metadata": {},
     "output_type": "display_data"
    },
    {
     "data": {
      "text/html": [
       "[88] Takian, Amirhossein; Raoofi, Azam; Kazempour-Ardebili, Sara. \"COVID-19 battle during the toughest sanctions against Iran.\" <i>Lancet (London, England)</i> (2020)."
      ],
      "text/plain": [
       "<IPython.core.display.HTML object>"
      ]
     },
     "metadata": {},
     "output_type": "display_data"
    },
    {
     "data": {
      "text/html": [
       "[89] Lazzerini, Marzia; Putoto, Giovanni. \"COVID-19 in Italy: momentous decisions and many uncertainties.\" <i>The Lancet. Global health</i> (2020)."
      ],
      "text/plain": [
       "<IPython.core.display.HTML object>"
      ]
     },
     "metadata": {},
     "output_type": "display_data"
    },
    {
     "data": {
      "text/html": [
       "[90] Pang, H B; Xu, L M; Niu, Y. \"Protection of forensic scene investigation and postmortem examination during the epidemic period of COVID-19.\" <i>Fa yi xue za zhi</i> 36, no. 1 (2020): 29-34."
      ],
      "text/plain": [
       "<IPython.core.display.HTML object>"
      ]
     },
     "metadata": {},
     "output_type": "display_data"
    },
    {
     "data": {
      "text/html": [
       "[91] Qiu, H; Wang, H J; Chen, Q L; Yue, X. \"Safety protection of forensic examination during the epidemic of COVID-19.\" <i>Fa yi xue za zhi</i> 36, no. 1 (2020): 24-28."
      ],
      "text/plain": [
       "<IPython.core.display.HTML object>"
      ]
     },
     "metadata": {},
     "output_type": "display_data"
    },
    {
     "data": {
      "text/html": [
       "[92] Liu, Q; Wang, R S; Qu, G Q; Wang, Y Y; Liu, P; Zhu, Y Z; Fei, G; Ren, L; Zhou, Y W; Liu, L. \"Gross examination report of a COVID-19 death autopsy.\" <i>Fa yi xue za zhi</i> 36, no. 1 (2020): 21-23."
      ],
      "text/plain": [
       "<IPython.core.display.HTML object>"
      ]
     },
     "metadata": {},
     "output_type": "display_data"
    },
    {
     "data": {
      "text/html": [
       "[93] Wang, H J; Du, S H; Yue, X; Chen, C X. \"Review and Prospect of Pathological Features of Corona Virus Disease.\" <i>Fa yi xue za zhi</i> 36, no. 1 (2020): 16-20."
      ],
      "text/plain": [
       "<IPython.core.display.HTML object>"
      ]
     },
     "metadata": {},
     "output_type": "display_data"
    },
    {
     "data": {
      "text/html": [
       "[94] Mao, D M; Zhou, N; Zheng, D; Le, J C; Zhao, Q H; Luo, B; Guan, D W; Zhou, Y W; Hu, B J; Cheng, J D. \"Guide to the Forensic Pathology Practice on Death Cases Related to Corona Virus Disease 2019 COVID-19 Trial Draft.\" <i>Fa yi xue za zhi</i> 36, no. 1 (2020): 6-5."
      ],
      "text/plain": [
       "<IPython.core.display.HTML object>"
      ]
     },
     "metadata": {},
     "output_type": "display_data"
    },
    {
     "data": {
      "text/html": [
       "[95] Whitworth, Jimmy. \"COVID-19: a fast evolving pandemic.\" <i>Transactions of the Royal Society of Tropical Medicine and Hygiene</i> (2020)."
      ],
      "text/plain": [
       "<IPython.core.display.HTML object>"
      ]
     },
     "metadata": {},
     "output_type": "display_data"
    },
    {
     "data": {
      "text/html": [
       "[96] Ren, Y H; Wang, S Y; Liu, M; Guo, Y M; Dai, H P. \"[When COVID-19 encounters interstitial lung disease: challenges and management].\" <i>Zhonghua jie he he hu xi za zhi = Zhonghua jiehe he huxi zazhi = Chinese journal</i> 43, no. 0 (2020): E039."
      ],
      "text/plain": [
       "<IPython.core.display.HTML object>"
      ]
     },
     "metadata": {},
     "output_type": "display_data"
    },
    {
     "data": {
      "text/html": [
       "[97] Guillen, Elena; Pineiro, Gaston Julio; Revuelta, Ignacio; Rodriguez, Diana; Bodro, Marta; Moreno, Asuncion; Campistol, Josep M; Diekmann, Fritz; Ventura-Aguiar, Pedro. \"Case report of COVID-19 in a kidney transplant recipient: Does immunosuppression alter the clinical presentation?\" <i>American journal of transplantation : official journal of the American Society of</i> (2020)."
      ],
      "text/plain": [
       "<IPython.core.display.HTML object>"
      ]
     },
     "metadata": {},
     "output_type": "display_data"
    },
    {
     "data": {
      "text/html": [
       "[98] Liang, Zhen Chang; Ooi, Shirley Beng Suat. \"COVID-19: A Singapore Orthopedic resident's musings in the Emergency Department.\" <i>Academic emergency medicine : official journal of the Society for Academic</i> (2020)."
      ],
      "text/plain": [
       "<IPython.core.display.HTML object>"
      ]
     },
     "metadata": {},
     "output_type": "display_data"
    },
    {
     "data": {
      "text/html": [
       "[99] Wan, Suxin; Xiang, Yi; Fang, Wei; Zheng, Yu; Li, Boqun; Hu, Yanjun; Lang, Chunhui; Huang, Daoqiu; Sun, Qiuyan; Xiong, Yan; Huang, Xia; Lv, Jinglong; Luo, Yaling; Shen, Li; Yang, Haoran; Huang, Gu; Yang, Ruishan. \"Clinical Features and Treatment of COVID-19 Patients in Northeast Chongqing.\" <i>Journal of medical virology</i> (2020)."
      ],
      "text/plain": [
       "<IPython.core.display.HTML object>"
      ]
     },
     "metadata": {},
     "output_type": "display_data"
    },
    {
     "data": {
      "text/html": [
       "[100] Soldati, Gino; Smargiassi, Adrea; Inchingolo, Riccardo; Buonsenso, Danilo; Perrone, Tiziano; Briganti, Domenica Federica; Perlini, Stefano; Torri, Elena; Mariani, Alberto; Mossolani, Elisa Eleonora; Tursi, Francesco; Mento, Federico; Demi, Libertario. \"Is there a role for lung ultrasound during the COVID-19 pandemic?\" <i>Journal of ultrasound in medicine : official journal of the American Institute of</i> (2020)."
      ],
      "text/plain": [
       "<IPython.core.display.HTML object>"
      ]
     },
     "metadata": {},
     "output_type": "display_data"
    },
    {
     "data": {
      "text/html": [
       "[101] Pagano, Monica B; Hess, John R; Tsang, Hamilton C; Staley, Elizabeth; Gernsheimer, Terry; Sen, Nina; Clark, Christine; Nester, Theresa; Bailey, Curt; Alcorn, Kirsten. \"Prepare to adapt: Blood supply and transfusion support during the first 2 weeks of the 2019 Novel Coronavirus (COVID-19) pandemic affecting Washington State.\" <i>Transfusion</i> (2020)."
      ],
      "text/plain": [
       "<IPython.core.display.HTML object>"
      ]
     },
     "metadata": {},
     "output_type": "display_data"
    },
    {
     "data": {
      "text/html": [
       "[102] Deng, Yan; Lei, Lei; Chen, Yue; Zhang, Wei. \"The potential added value of FDG PET/CT for COVID-19 pneumonia.\" <i>European journal of nuclear medicine and molecular imaging</i> (2020)."
      ],
      "text/plain": [
       "<IPython.core.display.HTML object>"
      ]
     },
     "metadata": {},
     "output_type": "display_data"
    },
    {
     "data": {
      "text/html": [
       "[103] Guo, Li; Ren, Lili; Yang, Siyuan; Xiao, Meng; Chang, De; Yang, Fan; Dela Cruz, Charles S; Wang, Yingying; Wu, Chao; Xiao, Yan; Zhang, Lulu; Han, Lianlian; Dang, Shengyuan; Xu, Yan; Yang, Qiwen; Xu, Shengyong; Zhu, Huadong; Xu, Yingchun; Jin, Qi; Sharma, Lokesh; Wang, Linghang; Wang, Jianwei. \"Profiling Early Humoral Response to Diagnose Novel Coronavirus Disease (COVID-19).\" <i>Clinical infectious diseases : an official publication of the Infectious Diseases</i> (2020)."
      ],
      "text/plain": [
       "<IPython.core.display.HTML object>"
      ]
     },
     "metadata": {},
     "output_type": "display_data"
    },
    {
     "data": {
      "text/html": [
       "[104] FitzGerald, Garret A. \"Misguided drug advice for COVID-19.\" <i>Science (New York, N.Y.)</i> (2020)."
      ],
      "text/plain": [
       "<IPython.core.display.HTML object>"
      ]
     },
     "metadata": {},
     "output_type": "display_data"
    },
    {
     "data": {
      "text/html": [
       "[105] Zhang, Linlin; Lin, Daizong; Sun, Xinyuanyuan; Curth, Ute; Drosten, Christian; Sauerhering, Lucie; Becker, Stephan; Rox, Katharina; Hilgenfeld, Rolf. \"Crystal structure of SARS-CoV-2 main protease provides a basis for design of improved alpha-ketoamide inhibitors.\" <i>Science (New York, N.Y.)</i> (2020)."
      ],
      "text/plain": [
       "<IPython.core.display.HTML object>"
      ]
     },
     "metadata": {},
     "output_type": "display_data"
    },
    {
     "data": {
      "text/html": [
       "[106] Niforatos, Joshua D; Melnick, Edward R; Faust, Jeremy S. \"Covid-19 fatality is likely overestimated.\" <i>BMJ (Clinical research ed.)</i> 368, (2020): m1113."
      ],
      "text/plain": [
       "<IPython.core.display.HTML object>"
      ]
     },
     "metadata": {},
     "output_type": "display_data"
    },
    {
     "data": {
      "text/html": [
       "[107] Hanley, Brian; Lucas, Sebastian B; Youd, Esther; Swift, Benjamin; Osborn, Michael. \"Autopsy in suspected COVID-19 cases.\" <i>Journal of clinical pathology</i> (2020)."
      ],
      "text/plain": [
       "<IPython.core.display.HTML object>"
      ]
     },
     "metadata": {},
     "output_type": "display_data"
    },
    {
     "data": {
      "text/html": [
       "[108] Tan, Shaun S; Yan, Benedict; Saw, Sharon; Lee, Chun Kiat; Chong, Ai Teng; Jureen, Roland; Sethi, Sunil. \"Practical laboratory considerations amidst the COVID-19 outbreak: early experience from Singapore.\" <i>Journal of clinical pathology</i> (2020)."
      ],
      "text/plain": [
       "<IPython.core.display.HTML object>"
      ]
     },
     "metadata": {},
     "output_type": "display_data"
    },
    {
     "data": {
      "text/html": [
       "[109] Mahase, Elisabeth. \"Covid-19: medical students to be employed by NHS as part of epidemic response.\" <i>BMJ (Clinical research ed.)</i> 368, (2020): m1156."
      ],
      "text/plain": [
       "<IPython.core.display.HTML object>"
      ]
     },
     "metadata": {},
     "output_type": "display_data"
    },
    {
     "data": {
      "text/html": [
       "[110] Tanne, Janice Hopkins. \"Covid-19: cases grow in US as Trump pushes promise of a malaria drug.\" <i>BMJ (Clinical research ed.)</i> 368, (2020): m1155."
      ],
      "text/plain": [
       "<IPython.core.display.HTML object>"
      ]
     },
     "metadata": {},
     "output_type": "display_data"
    },
    {
     "data": {
      "text/html": [
       "[111] Coombes, Rebecca. \"Covid-19: experts question the evidence behind closing London Underground and city metros during the pandemic.\" <i>BMJ (Clinical research ed.)</i> 368, (2020): m1154."
      ],
      "text/plain": [
       "<IPython.core.display.HTML object>"
      ]
     },
     "metadata": {},
     "output_type": "display_data"
    },
    {
     "data": {
      "text/html": [
       "[112] Willan, John; King, Andrew John; Jeffery, Katie; Bienz, Nicola. \"Challenges for NHS hospitals during covid-19 epidemic.\" <i>BMJ (Clinical research ed.)</i> 368, (2020): m1117."
      ],
      "text/plain": [
       "<IPython.core.display.HTML object>"
      ]
     },
     "metadata": {},
     "output_type": "display_data"
    },
    {
     "data": {
      "text/html": [
       "[113] Fedson, David S; Opal, Steven M; Rordam, Ole Martin. \"Hiding in Plain Sight: an Approach to Treating Patients with Severe COVID-19 Infection.\" <i>mBio</i> 11, no. 2 (2020)."
      ],
      "text/plain": [
       "<IPython.core.display.HTML object>"
      ]
     },
     "metadata": {},
     "output_type": "display_data"
    },
    {
     "data": {
      "text/html": [
       "[114] Dyer, Clare. \"Covid-19: 15 000 deregistered doctors are told, \"Your NHS needs you\".\" <i>BMJ (Clinical research ed.)</i> 368, (2020): m1152."
      ],
      "text/plain": [
       "<IPython.core.display.HTML object>"
      ]
     },
     "metadata": {},
     "output_type": "display_data"
    },
    {
     "data": {
      "text/html": [
       "[115] Ong, John; Young, Barnaby Edward; Ong, Sharon. \"COVID-19 in gastroenterology: a clinical perspective.\" <i>Gut</i> (2020)."
      ],
      "text/plain": [
       "<IPython.core.display.HTML object>"
      ]
     },
     "metadata": {},
     "output_type": "display_data"
    },
    {
     "data": {
      "text/html": [
       "[116] Rimmer, Abi. \"Covid-19: GPs can stop health checks for over 75s and routine medicine reviews.\" <i>BMJ (Clinical research ed.)</i> 368, (2020): m1157."
      ],
      "text/plain": [
       "<IPython.core.display.HTML object>"
      ]
     },
     "metadata": {},
     "output_type": "display_data"
    },
    {
     "data": {
      "text/html": [
       "[117] Berger, Zackary D; Evans, Nicholas G; Phelan, Alexandra L; Silverman, Ross D. \"Covid-19: control measures must be equitable and inclusive.\" <i>BMJ (Clinical research ed.)</i> 368, (2020): m1141."
      ],
      "text/plain": [
       "<IPython.core.display.HTML object>"
      ]
     },
     "metadata": {},
     "output_type": "display_data"
    },
    {
     "data": {
      "text/html": [
       "[118] Kliger, Alan S; Silberzweig, Jeffrey. \"Mitigating Risk of COVID-19 in Dialysis Facilities.\" <i>Clinical journal of the American Society of Nephrology : CJASN</i> (2020)."
      ],
      "text/plain": [
       "<IPython.core.display.HTML object>"
      ]
     },
     "metadata": {},
     "output_type": "display_data"
    },
    {
     "data": {
      "text/html": [
       "[119] Shim, Eunha; Tariq, Amna; Choi, Wongyeong; Lee, Yiseul; Chowell, Gerardo. \"Transmission potential and severity of COVID-19 in South Korea.\" <i>International journal of infectious diseases : IJID : official publication of the</i> (2020)."
      ],
      "text/plain": [
       "<IPython.core.display.HTML object>"
      ]
     },
     "metadata": {},
     "output_type": "display_data"
    },
    {
     "data": {
      "text/html": [
       "[120] Lee, Nan-Yao; Li, Chia-Wen; Tsai, Huey-Pin; Chen, Po-Lin; Syue, Ling-Shan; Li, Ming-Chi; Tsai, Chin-Shiang; Lo, Ching-Lung; Hsueh, Po-Ren; Ko, Wen-Chien. \"A case of COVID-19 and pneumonia returning from Macau in Taiwan: Clinical course and anti-SARS-CoV-2 IgG dynamic.\" <i>Journal of microbiology, immunology, and infection = Wei mian yu gan ran za zhi</i> (2020)."
      ],
      "text/plain": [
       "<IPython.core.display.HTML object>"
      ]
     },
     "metadata": {},
     "output_type": "display_data"
    },
    {
     "data": {
      "text/html": [
       "[121] Ungaro, Ryan C; Sullivan, Timothy; Colombel, Jean-Frederic; Patel, Gopi. \"What Should Gastroenterologists and Patients Know About COVID-19?\" <i>Clinical gastroenterology and hepatology : the official clinical practice journal</i> (2020)."
      ],
      "text/plain": [
       "<IPython.core.display.HTML object>"
      ]
     },
     "metadata": {},
     "output_type": "display_data"
    },
    {
     "data": {
      "text/html": [
       "[122] Yang, Ting; Wang, Yung-Chih; Shen, Ching-Fen; Cheng, Chao-Min. \"Point-of-Care RNA-Based Diagnostic Device for COVID-19.\" <i>Diagnostics (Basel, Switzerland)</i> 10, no. 3 (2020)."
      ],
      "text/plain": [
       "<IPython.core.display.HTML object>"
      ]
     },
     "metadata": {},
     "output_type": "display_data"
    },
    {
     "data": {
      "text/html": [
       "[123] Smith, James A; Judd, Jenni. \"COVID-19: Vulnerability and the power of privilege in a pandemic.\" <i>Health promotion journal of Australia : official journal of Australian</i> (2020)."
      ],
      "text/plain": [
       "<IPython.core.display.HTML object>"
      ]
     },
     "metadata": {},
     "output_type": "display_data"
    },
    {
     "data": {
      "text/html": [
       "[124] Ueda, Masumi; Martins, Renato; Hendrie, Paul C; McDonnell, Terry; Crews, Jennie R; Wong, Tracy L; McCreery, Brittany; Jagels, Barbara; Crane, Aaron; Byrd, David R; Pergam, Steven A; Davidson, Nancy E; Liu, Catherine; Stewart, F Marc. \"Managing Cancer Care During the COVID-19 Pandemic: Agility and Collaboration Toward a Common Goal.\" <i>Journal of the National Comprehensive Cancer Network : JNCCN</i> (2020): 1-4."
      ],
      "text/plain": [
       "<IPython.core.display.HTML object>"
      ]
     },
     "metadata": {},
     "output_type": "display_data"
    },
    {
     "data": {
      "text/html": [
       "[125] Kinner, Stuart A; Young, Jesse T; Snow, Kathryn; Southalan, Louise; Lopez-Acuna, Daniel; Ferreira-Borges, Carina; O'Moore, Eamonn. \"Prisons and custodial settings are part of a comprehensive response to COVID-19.\" <i>The Lancet. Public health</i> (2020)."
      ],
      "text/plain": [
       "<IPython.core.display.HTML object>"
      ]
     },
     "metadata": {},
     "output_type": "display_data"
    },
    {
     "data": {
      "text/html": [
       "[126] Weiss, Paul; Murdoch, David R. \"Clinical course and mortality risk of severe COVID-19.\" <i>Lancet (London, England)</i> (2020)."
      ],
      "text/plain": [
       "<IPython.core.display.HTML object>"
      ]
     },
     "metadata": {},
     "output_type": "display_data"
    },
    {
     "data": {
      "text/html": [
       "[127] Alwan, Nisreen A; Bhopal, Raj; Burgess, Rochelle A; Colburn, Tim; Cuevas, Luis E; Smith, George Davey; Egger, Matthias; Eldridge, Sandra; Gallo, Valentina; Gilthorpe, Mark S; Greenhalgh, Trish; Griffiths, Christopher; Hunter, Paul R; Jaffar, Shabbar; Jepson, Ruth; Low, Nicola; Martineau, Adrian; McCoy, David; Orcutt, Miriam; Pankhania, Bharat; Pikhart, Hynek; Pollock, Allyson; Scally, Gabriel; Smith, James; Sridhar, Devi; Taylor, Stephanie; Tennant, Peter W G; Themistocleous, Yrene; Wilson, Anne. \"Evidence informing the UK's COVID-19 public health response must be transparent.\" <i>Lancet (London, England)</i> (2020)."
      ],
      "text/plain": [
       "<IPython.core.display.HTML object>"
      ]
     },
     "metadata": {},
     "output_type": "display_data"
    },
    {
     "data": {
      "text/html": [
       "[128] Bedford, Juliet; Enria, Delia; Giesecke, Johan; Heymann, David L; Ihekweazu, Chikwe; Kobinger, Gary; Lane, H Clifford; Memish, Ziad; Oh, Myoung-Don; Sall, Amadou Alpha; Schuchat, Anne; Ungchusak, Kumnuan; Wieler, Lothar H. \"COVID-19: towards controlling of a pandemic.\" <i>Lancet (London, England)</i> (2020)."
      ],
      "text/plain": [
       "<IPython.core.display.HTML object>"
      ]
     },
     "metadata": {},
     "output_type": "display_data"
    },
    {
     "data": {
      "text/html": [
       "[129] Schmid, Manuel B; Fontijn, Jehudith; Ochsenbein-Kolble, Nicole; Berger, Christoph; Bassler, Dirk. \"COVID-19 in pregnant women.\" <i>The Lancet. Infectious diseases</i> (2020)."
      ],
      "text/plain": [
       "<IPython.core.display.HTML object>"
      ]
     },
     "metadata": {},
     "output_type": "display_data"
    },
    {
     "data": {
      "text/html": [
       "[130] Baud, David; Giannoni, Eric; Pomar, Leo; Qi, Xiaolong; Nielsen-Saines, Karin; Musso, Didier; Favre, Guillaume. \"\" <i>The Lancet. Infectious diseases</i> (2020)."
      ],
      "text/plain": [
       "<IPython.core.display.HTML object>"
      ]
     },
     "metadata": {},
     "output_type": "display_data"
    },
    {
     "data": {
      "text/html": [
       "[131] Zhang, Tao; Wu, Qunfu; Zhang, Zhigang. \"Probable Pangolin Origin of SARS-CoV-2 Associated with the COVID-19 Outbreak.\" <i>Current biology : CB</i> (2020)."
      ],
      "text/plain": [
       "<IPython.core.display.HTML object>"
      ]
     },
     "metadata": {},
     "output_type": "display_data"
    },
    {
     "data": {
      "text/html": [
       "[132] Jin, Min; Tong, Qiaoxia. \"Rhabdomyolysis as Potential Late Complication Associated with COVID-19.\" <i>Emerging infectious diseases</i> 26, no. 7 (2020)."
      ],
      "text/plain": [
       "<IPython.core.display.HTML object>"
      ]
     },
     "metadata": {},
     "output_type": "display_data"
    },
    {
     "data": {
      "text/html": [
       "[133] Olsen, Sonja J; Chen, Meng-Yu; Liu, Yu-Lun; Witschi, Mark; Ardoin, Alexis; Calba, Clementine; Mathieu, Pauline; Masserey, Virginie; Maraglino, Francesco; Marro, Stefano; Penttinen, Pasi; Robesyn, Emmanuel; Pukkila, Jukka. \"Early Introduction of Severe Acute Respiratory Syndrome Coronavirus 2 into Europe.\" <i>Emerging infectious diseases</i> 26, no. 7 (2020)."
      ],
      "text/plain": [
       "<IPython.core.display.HTML object>"
      ]
     },
     "metadata": {},
     "output_type": "display_data"
    },
    {
     "data": {
      "text/html": [
       "[134] Hunter, David J. \"\" <i>The New England journal of medicine</i> (2020)."
      ],
      "text/plain": [
       "<IPython.core.display.HTML object>"
      ]
     },
     "metadata": {},
     "output_type": "display_data"
    },
    {
     "data": {
      "text/html": [
       "[135] Yasri, Sora; Wiwanitkit, Viroj. \"Clinical features in pediatric COVID-19.\" <i>Pediatric pulmonology</i> (2020)."
      ],
      "text/plain": [
       "<IPython.core.display.HTML object>"
      ]
     },
     "metadata": {},
     "output_type": "display_data"
    },
    {
     "data": {
      "text/html": [
       "[136] McNeary, Lennox; Maltser, Susan; Verduzco-Gutierrez, Monica. \"Navigating Coronavirus Disease 2019 (Covid-19) in Physiatry: A CAN report for Inpatient Rehabilitation Facilities.\" <i>PM & R : the journal of injury, function, and rehabilitation</i> (2020)."
      ],
      "text/plain": [
       "<IPython.core.display.HTML object>"
      ]
     },
     "metadata": {},
     "output_type": "display_data"
    },
    {
     "data": {
      "text/html": [
       "[137] D'Antiga, Lorenzo. \"Coronaviruses and immunosuppressed patients. The facts during the third epidemic.\" <i>Liver transplantation : official publication of the American Association for the</i> (2020)."
      ],
      "text/plain": [
       "<IPython.core.display.HTML object>"
      ]
     },
     "metadata": {},
     "output_type": "display_data"
    },
    {
     "data": {
      "text/html": [
       "[138] Ding, Qiang; Lu, Panpan; Fan, Yuhui; Xia, Yujia; Liu, Mei. \"The clinical characteristics of pneumonia patients co-infected with 2019 novel coronavirus and influenza virus in Wuhan, China.\" <i>Journal of medical virology</i> (2020)."
      ],
      "text/plain": [
       "<IPython.core.display.HTML object>"
      ]
     },
     "metadata": {},
     "output_type": "display_data"
    },
    {
     "data": {
      "text/html": [
       "[139] Sahu, Kamal Kant; Lal, Amos; Mishra, Ajay Kumar. \"Latest updates on COVID-2019: A changing paradigm shift.\" <i>Journal of medical virology</i> (2020)."
      ],
      "text/plain": [
       "<IPython.core.display.HTML object>"
      ]
     },
     "metadata": {},
     "output_type": "display_data"
    },
    {
     "data": {
      "text/html": [
       "[140] Agyeman, Akosua Adom; Laar, Amos; Ofori-Asenso, Richard. \"Will COVID-19 be a litmus test for post-Ebola Sub-Saharan Africa?\" <i>Journal of medical virology</i> (2020)."
      ],
      "text/plain": [
       "<IPython.core.display.HTML object>"
      ]
     },
     "metadata": {},
     "output_type": "display_data"
    },
    {
     "data": {
      "text/html": [
       "[141] Dong, Xiang; Cao, Yi-Yuan; Lu, Xiao-Xia; Zhang, Jin-Jin; Du, Hui; Yan, You-Qin; Akdis, Cezmi A; Gao, Ya-Dong. \"Eleven Faces of Coronavirus Disease 2019.\" <i>Allergy</i> (2020)."
      ],
      "text/plain": [
       "<IPython.core.display.HTML object>"
      ]
     },
     "metadata": {},
     "output_type": "display_data"
    },
    {
     "data": {
      "text/html": [
       "[142] Chen, Dunjin; Yang, Huixia; Cao, Yun; Cheng, Weiwei; Duan, Tao; Fan, Cuifang; Fan, Shangrong; Feng, Ling; Gao, Yuanmei; He, Fang; He, Jing; Hu, Yali; Jiang, Yi; Li, Yimin; Li, Jiafu; Li, Xiaotian; Li, Xuelan; Lin, Kangguang; Liu, Caixia; Liu, Juntao; Liu, Xinghui; Pan, Xingfei; Pang, Qiumei; Pu, Meihua; Qi, Hongbo; Shi, Chunyan; Sun, Yu; Sun, Jingxia; Wang, Xietong; Wang, Yichun; Wang, Zilian; Wang, Zhijian; Wang, Cheng; Wu, Suqiu; Xin, Hong; Yan, Jianying; Zhao, Yangyu; Zheng, Jun; Zhou, Yihua; Zou, Li; Zeng, Yingchun; Zhang, Yuanzhen; Guan, Xiaoming; Eppes, Catherine S; Fox, Karin; Belfort, Michael A. \"Expert consensus for managing pregnant women and neonates born to mothers with suspected or confirmed novel coronavirus (COVID-19) infection.\" <i>International journal of gynaecology and obstetrics: the official organ of the</i> (2020)."
      ],
      "text/plain": [
       "<IPython.core.display.HTML object>"
      ]
     },
     "metadata": {},
     "output_type": "display_data"
    },
    {
     "data": {
      "text/html": [
       "[143] Buonsenso, D; Piano, A; Raffaelli, F; Bonadia, N; de Gaetano Donati, K; Franceschi, F. \"Point-of-Care Lung Ultrasound findings in novel coronavirus disease-19 pnemoniae: a case report and potential applications during COVID-19 outbreak.\" <i>European review for medical and pharmacological sciences</i> 24, no. 5 (2020): 2776-2780."
      ],
      "text/plain": [
       "<IPython.core.display.HTML object>"
      ]
     },
     "metadata": {},
     "output_type": "display_data"
    },
    {
     "data": {
      "text/html": [
       "[144] Dewey, Charlene; Hingle, Susan; Goelz, Elizabeth; Linzer, Mark. \"Supporting Clinicians During the COVID-19 Pandemic.\" <i>Annals of internal medicine</i> (2020)."
      ],
      "text/plain": [
       "<IPython.core.display.HTML object>"
      ]
     },
     "metadata": {},
     "output_type": "display_data"
    },
    {
     "data": {
      "text/html": [
       "[145] Sun, Zhonghua. \"Diagnostic Value of Chest CT in Coronavirus Disease 2019 (COVID-19).\" <i>Current medical imaging</i> (2020)."
      ],
      "text/plain": [
       "<IPython.core.display.HTML object>"
      ]
     },
     "metadata": {},
     "output_type": "display_data"
    },
    {
     "data": {
      "text/html": [
       "[146] Loeffelholz, Michael J; Tang, Yi-Wei. \"\" <i>Emerging microbes & infections</i> (2020): 1-26."
      ],
      "text/plain": [
       "<IPython.core.display.HTML object>"
      ]
     },
     "metadata": {},
     "output_type": "display_data"
    },
    {
     "data": {
      "text/html": [
       "[147] Lin, Ling; Lu, Lianfeng; Cao, Wei; Li, Taisheng. \"Hypothesis for potential pathogenesis of SARS-CoV-2 infection--a review of immune changes in patients with viral pneumonia.\" <i>Emerging microbes & infections</i> (2020): 1-14."
      ],
      "text/plain": [
       "<IPython.core.display.HTML object>"
      ]
     },
     "metadata": {},
     "output_type": "display_data"
    },
    {
     "data": {
      "text/html": [
       "[148] . \"COVID-19 (Coronavirus).\" <i>Lymphatic research and biology</i> (2020)."
      ],
      "text/plain": [
       "<IPython.core.display.HTML object>"
      ]
     },
     "metadata": {},
     "output_type": "display_data"
    },
    {
     "data": {
      "text/html": [
       "[149] Smith, Anthony C; Thomas, Emma; Snoswell, Centaine L; Haydon, Helen; Mehrotra, Ateev; Clemensen, Jane; Caffery, Liam J. \"Telehealth for global emergencies: Implications for coronavirus disease 2019 (COVID-19).\" <i>Journal of telemedicine and telecare</i> (2020): 1357633X20916567."
      ],
      "text/plain": [
       "<IPython.core.display.HTML object>"
      ]
     },
     "metadata": {},
     "output_type": "display_data"
    },
    {
     "data": {
      "text/html": [
       "[150] Koonin, Lisa M; Pillai, Satish; Kahn, Emily B; Moulia, Danielle; Patel, Anita. \"Strategies to Inform Allocation of Stockpiled Ventilators to Healthcare Facilities During a Pandemic.\" <i>Health security</i> (2020)."
      ],
      "text/plain": [
       "<IPython.core.display.HTML object>"
      ]
     },
     "metadata": {},
     "output_type": "display_data"
    },
    {
     "data": {
      "text/html": [
       "[151] Basile, Carlo; Combe, Christian; Pizzarelli, Francesco; Covic, Adrian; Davenport, Andrew; Kanbay, Mehmet; Kirmizis, Dimitrios; Schneditz, Daniel; van der Sande, Frank; Mitra, Sandip. \"Recommendations for the prevention, mitigation and containment of the emerging SARS-CoV-2 (COVID-19) pandemic in haemodialysis centres.\" <i>Nephrology, dialysis, transplantation : official publication of the European</i> (2020)."
      ],
      "text/plain": [
       "<IPython.core.display.HTML object>"
      ]
     },
     "metadata": {},
     "output_type": "display_data"
    },
    {
     "data": {
      "text/html": [
       "[152] Kuster, Gabriela M; Pfister, Otmar; Burkard, Thilo; Zhou, Qian; Twerenbold, Raphael; Haaf, Philip; Widmer, Andreas F; Osswald, Stefan. \"SARS-CoV2: should inhibitors of the renin-angiotensin system be withdrawn in patients with COVID-19?\" <i>European heart journal</i> (2020)."
      ],
      "text/plain": [
       "<IPython.core.display.HTML object>"
      ]
     },
     "metadata": {},
     "output_type": "display_data"
    },
    {
     "data": {
      "text/html": [
       "[153] Zhou, Dan; Dai, Sheng-Ming; Tong, Qiang. \"COVID-19: a recommendation to examine the effect of hydroxychloroquine in preventing infection and progression.\" <i>The Journal of antimicrobial chemotherapy</i> (2020)."
      ],
      "text/plain": [
       "<IPython.core.display.HTML object>"
      ]
     },
     "metadata": {},
     "output_type": "display_data"
    },
    {
     "data": {
      "text/html": [
       "[154] Desai, Angel N; Patel, Payal. \"Stopping the Spread of COVID-19.\" <i>JAMA</i> (2020)."
      ],
      "text/plain": [
       "<IPython.core.display.HTML object>"
      ]
     },
     "metadata": {},
     "output_type": "display_data"
    },
    {
     "data": {
      "text/html": [
       "[155] Geldsetzer, Pascal. \"Knowledge and Perceptions of COVID-19 Among the General Public in the United States and the United Kingdom: A Cross-sectional Online Survey.\" <i>Annals of internal medicine</i> (2020)."
      ],
      "text/plain": [
       "<IPython.core.display.HTML object>"
      ]
     },
     "metadata": {},
     "output_type": "display_data"
    },
    {
     "data": {
      "text/html": [
       "[156] Lu, Tao; Pu, Hong. \"Computed Tomography Manifestations of 5 Cases of the Novel Coronavirus Disease 2019 (COVID-19) Pneumonia From Patients Outside Wuhan.\" <i>Journal of thoracic imaging</i> (2020)."
      ],
      "text/plain": [
       "<IPython.core.display.HTML object>"
      ]
     },
     "metadata": {},
     "output_type": "display_data"
    },
    {
     "data": {
      "text/html": [
       "[157] Esler, Murray; Esler, Danielle. \"Can angiotensin receptor-blocking drugs perhaps be harmful in the COVID-19 pandemic?\" <i>Journal of hypertension</i> (2020)."
      ],
      "text/plain": [
       "<IPython.core.display.HTML object>"
      ]
     },
     "metadata": {},
     "output_type": "display_data"
    },
    {
     "data": {
      "text/html": [
       "[158] Meng, Lingzhong; Qiu, Haibo; Wan, Li; Ai, Yuhang; Xue, Zhanggang; Guo, Qulian; Deshpande, Ranjit; Zhang, Lina; Meng, Jie; Tong, Chuanyao; Liu, Hong; Xiong, Lize. \"Intubation and Ventilation amid the COVID-19 Outbreak: Wuhan's Experience.\" <i>Anesthesiology</i> (2020)."
      ],
      "text/plain": [
       "<IPython.core.display.HTML object>"
      ]
     },
     "metadata": {},
     "output_type": "display_data"
    },
    {
     "data": {
      "text/html": [
       "[159] Zhang, Hong-Fei; Bo, Lu-Long; Lin, Yun; Li, Feng-Xian; Sun, Shu-Jun; Lin, Hong-Bin; Xu, Shi-Yuan; Bian, Jin-Jun; Yao, Shang-Long; Chen, Xiang-Dong; Meng, Lingzhong; Deng, Xiao-Ming. \"Response of Chinese Anesthesiologists to the COVID-19 Outbreak.\" <i>Anesthesiology</i> (2020)."
      ],
      "text/plain": [
       "<IPython.core.display.HTML object>"
      ]
     },
     "metadata": {},
     "output_type": "display_data"
    },
    {
     "data": {
      "text/html": [
       "[160] Luo, Mengqiang; Cao, Shumei; Wei, Liqun; Tang, Rundong; Hong, Shu; Liu, Renyu; Wang, Yingwei. \"Precautions for Intubating Patients with COVID-19.\" <i>Anesthesiology</i> (2020)."
      ],
      "text/plain": [
       "<IPython.core.display.HTML object>"
      ]
     },
     "metadata": {},
     "output_type": "display_data"
    },
    {
     "data": {
      "text/html": [
       "[161] Chen, Xiangdong; Liu, Yanhong; Gong, Yahong; Guo, Xiangyang; Zuo, Mingzhang; Li, Jun; Shi, Wenzhu; Li, Hao; Xu, Xiaohan; Mi, Weidong; Huang, Yuguang. \"Perioperative Management of Patients Infected with the Novel Coronavirus: Recommendation from the Joint Task Force of the Chinese Society of Anesthesiology and the Chinese Association of Anesthesiologists.\" <i>Anesthesiology</i> (2020)."
      ],
      "text/plain": [
       "<IPython.core.display.HTML object>"
      ]
     },
     "metadata": {},
     "output_type": "display_data"
    },
    {
     "data": {
      "text/html": [
       "[162] Greenland, John R; Michelow, Marilyn D; Wang, Linlin; London, Martin J. \"COVID-19 Infection: Implications for Perioperative and Critical Care Physicians.\" <i>Anesthesiology</i> (2020)."
      ],
      "text/plain": [
       "<IPython.core.display.HTML object>"
      ]
     },
     "metadata": {},
     "output_type": "display_data"
    },
    {
     "data": {
      "text/html": [
       "[163] Wahidi, Momen M; Lamb, Carla; Murgu, Septimiu; Musani, Ali; Shojaee, Samira; Sachdeva, Ashutosh; Maldonado, Fabien; Mahmood, Kamran; Kinsey, Matthew; Sethi, Sonali; Mahajan, Amit; Majid, Adnan; Keyes, Colleen; Alraiyes, Abdul Hamid; Sung, Arthur; Hsia, David; Eapen, George. \"American Association for Bronchology and Interventional Pulmonology (AABIP) Statement on the Use of Bronchoscopy and Respiratory Specimen Collection in Patients with Suspected or Confirmed COVID-19 Infection.\" <i>Journal of bronchology & interventional pulmonology</i> (2020)."
      ],
      "text/plain": [
       "<IPython.core.display.HTML object>"
      ]
     },
     "metadata": {},
     "output_type": "display_data"
    },
    {
     "data": {
      "text/html": [
       "[164] El Zowalaty, Mohamed E; Jarhult, Josef D. \"\" <i>One health (Amsterdam, Netherlands)</i> 9, (2020): 100124."
      ],
      "text/plain": [
       "<IPython.core.display.HTML object>"
      ]
     },
     "metadata": {},
     "output_type": "display_data"
    },
    {
     "data": {
      "text/html": [
       "[165] Shang, Weilong; Yang, Yi; Rao, Yifan; Rao, Xiancai. \"The outbreak of SARS-CoV-2 pneumonia calls for viral vaccines.\" <i>NPJ vaccines</i> 5, (2020): 18."
      ],
      "text/plain": [
       "<IPython.core.display.HTML object>"
      ]
     },
     "metadata": {},
     "output_type": "display_data"
    },
    {
     "data": {
      "text/html": [
       "[166] Chen, Yu Wai; Yiu, Chin-Pang Bennu; Wong, Kwok-Yin. \"Prediction of the SARS-CoV-2 (2019-nCoV) 3C-like protease (3CL (pro)) structure: virtual screening reveals velpatasvir, ledipasvir, and other drug repurposing candidates.\" <i>F1000Research</i> 9, (2020): 129."
      ],
      "text/plain": [
       "<IPython.core.display.HTML object>"
      ]
     },
     "metadata": {},
     "output_type": "display_data"
    },
    {
     "data": {
      "text/html": [
       "[167] Xiao, Han; Zhang, Yan; Kong, Desheng; Li, Shiyue; Yang, Ningxi. \"Social Capital and Sleep Quality in Individuals Who Self-Isolated for 14 Days During the Coronavirus Disease 2019 (COVID-19) Outbreak in January 2020 in China.\" <i>Medical science monitor : international medical journal of experimental and</i> 26, (2020): e923921."
      ],
      "text/plain": [
       "<IPython.core.display.HTML object>"
      ]
     },
     "metadata": {},
     "output_type": "display_data"
    },
    {
     "data": {
      "text/html": [
       "[168] Tilocca, Bruno; Soggiu, Alessio; Musella, Vincenzo; Britti, Domenico; Sanguinetti, Maurizio; Urbani, Andrea; Roncada, Paola. \"Molecular basis of COVID-19 relationships in different species: a one health perspective.\" <i>Microbes and infection</i> (2020)."
      ],
      "text/plain": [
       "<IPython.core.display.HTML object>"
      ]
     },
     "metadata": {},
     "output_type": "display_data"
    },
    {
     "data": {
      "text/html": [
       "[169] Li, Peng; Fu, Ji-Bo; Li, Ke-Feng; Chen, Yan; Wang, Hong-Ling; Liu, Lei-Jie; Liu, Jie-Nan; Zhang, Yong-Li; Liu, She-Lan; Tang, An; Tong, Zhen-Dong; Yan, Jian-Bo. \"Transmission of COVID-19 in the terminal stage of incubation period: a familial cluster.\" <i>International journal of infectious diseases : IJID : official publication of the</i> (2020)."
      ],
      "text/plain": [
       "<IPython.core.display.HTML object>"
      ]
     },
     "metadata": {},
     "output_type": "display_data"
    },
    {
     "data": {
      "text/html": [
       "[170] Sahraei, Zahra; Shabani, Minoosh; Shokouhi, Shervin; Saffaei, Ali. \"Aminoquinolines Against Coronavirus Disease 2019 (COVID-19): Chloroquine or Hydroxychloroquine.\" <i>International journal of antimicrobial agents</i> (2020): 105945."
      ],
      "text/plain": [
       "<IPython.core.display.HTML object>"
      ]
     },
     "metadata": {},
     "output_type": "display_data"
    },
    {
     "data": {
      "text/html": [
       "[171] Choe, Young June; Choi, Eun Hwa. \"Are We Ready for Coronavirus Disease 2019 Arriving at Schools?\" <i>Journal of Korean medical science</i> 35, no. 11 (2020): e127."
      ],
      "text/plain": [
       "<IPython.core.display.HTML object>"
      ]
     },
     "metadata": {},
     "output_type": "display_data"
    },
    {
     "data": {
      "text/html": [
       "[172] Park, Ji Young; Han, Mi Seon; Park, Kyoung Un; Kim, Ji Young; Choi, Eun Hwa. \"First Pediatric Case of Coronavirus Disease 2019 in Korea.\" <i>Journal of Korean medical science</i> 35, no. 11 (2020): e124."
      ],
      "text/plain": [
       "<IPython.core.display.HTML object>"
      ]
     },
     "metadata": {},
     "output_type": "display_data"
    },
    {
     "data": {
      "text/html": [
       "[173] Kwon, Ki Tae; Ko, Jae Hoon; Shin, Heejun; Sung, Minki; Kim, Jin Yong. \"Drive-Through Screening Center for COVID-19: a Safe and Efficient Screening System against Massive Community Outbreak.\" <i>Journal of Korean medical science</i> 35, no. 11 (2020): e123."
      ],
      "text/plain": [
       "<IPython.core.display.HTML object>"
      ]
     },
     "metadata": {},
     "output_type": "display_data"
    },
    {
     "data": {
      "text/html": [
       "[174] Gross, Alexander; Thiemig, Dorina; Koch, Franz-Wilhelm; Schwarz, Martin; Glaser, Sven; Albrecht, Thomas. \"CT appearance of severe, laboratory-proven coronavirus disease 2019 (COVID-19) in a Caucasian patient in Berlin, Germany.\" <i>RoFo : Fortschritte auf dem Gebiete der Rontgenstrahlen und der Nuklearmedizin</i> (2020)."
      ],
      "text/plain": [
       "<IPython.core.display.HTML object>"
      ]
     },
     "metadata": {},
     "output_type": "display_data"
    },
    {
     "data": {
      "text/html": [
       "[175] Sun, Dan; Li, Hui; Lu, Xiao-Xia; Xiao, Han; Ren, Jie; Zhang, Fu-Rong; Liu, Zhi-Sheng. \"Clinical features of severe pediatric patients with coronavirus disease 2019 in Wuhan: a single center's observational study.\" <i>World journal of pediatrics : WJP</i> (2020)."
      ],
      "text/plain": [
       "<IPython.core.display.HTML object>"
      ]
     },
     "metadata": {},
     "output_type": "display_data"
    },
    {
     "data": {
      "text/html": [
       "[176] Ye, Zheng; Zhang, Yun; Wang, Yi; Huang, Zixiang; Song, Bin. \"Chest CT manifestations of new coronavirus disease 2019 (COVID-19): a pictorial review.\" <i>European radiology</i> (2020)."
      ],
      "text/plain": [
       "<IPython.core.display.HTML object>"
      ]
     },
     "metadata": {},
     "output_type": "display_data"
    },
    {
     "data": {
      "text/html": [
       "[177] Kang, Zhen; Li, Xu; Zhou, Shuchang. \"Recommendation of low-dose CT in the detection and management of COVID-2019.\" <i>European radiology</i> (2020)."
      ],
      "text/plain": [
       "<IPython.core.display.HTML object>"
      ]
     },
     "metadata": {},
     "output_type": "display_data"
    },
    {
     "data": {
      "text/html": [
       "[178] Cowling, Benjamin J; Aiello, Allison. \"Public health measures to slow community spread of COVID-19.\" <i>The Journal of infectious diseases</i> (2020)."
      ],
      "text/plain": [
       "<IPython.core.display.HTML object>"
      ]
     },
     "metadata": {},
     "output_type": "display_data"
    },
    {
     "data": {
      "text/html": [
       "[179] Iacobucci, Gareth. \"Covid-19: UK government calls on industry to help boost testing capacity to 25 000 people a day.\" <i>BMJ (Clinical research ed.)</i> 368, (2020): m1118."
      ],
      "text/plain": [
       "<IPython.core.display.HTML object>"
      ]
     },
     "metadata": {},
     "output_type": "display_data"
    },
    {
     "data": {
      "text/html": [
       "[180] Rzymski, Piotr; Nowicki, Michal. \"Preventing COVID-19 prejudice in academia.\" <i>Science (New York, N.Y.)</i> 367, no. 6484 (2020): 1313."
      ],
      "text/plain": [
       "<IPython.core.display.HTML object>"
      ]
     },
     "metadata": {},
     "output_type": "display_data"
    },
    {
     "data": {
      "text/html": [
       "[181] Cohen, Jon; Kupferschmidt, Kai. \"Countries test tactics in 'war' against COVID-19.\" <i>Science (New York, N.Y.)</i> 367, no. 6484 (2020): 1287-1288."
      ],
      "text/plain": [
       "<IPython.core.display.HTML object>"
      ]
     },
     "metadata": {},
     "output_type": "display_data"
    },
    {
     "data": {
      "text/html": [
       "[182] Mahase, Elisabeth. \"Covid-19: schools set to close across UK except for children of health and social care workers.\" <i>BMJ (Clinical research ed.)</i> 368, (2020): m1140."
      ],
      "text/plain": [
       "<IPython.core.display.HTML object>"
      ]
     },
     "metadata": {},
     "output_type": "display_data"
    },
    {
     "data": {
      "text/html": [
       "[183] Kar, Partha. \"Partha Kar: Covid-19-we must keep faith in our experts.\" <i>BMJ (Clinical research ed.)</i> 368, (2020): m1143."
      ],
      "text/plain": [
       "<IPython.core.display.HTML object>"
      ]
     },
     "metadata": {},
     "output_type": "display_data"
    },
    {
     "data": {
      "text/html": [
       "[184] Liu, Kai-Cai; Xu, Ping; Lv, Wei-Fu; Qiu, Xiao-Hui; Yao, Jin-Long; Gu, Jin-Feng; Wei, Wei. \"CT manifestations of coronavirus disease-2019: A retrospective analysis of 73 cases by disease severity.\" <i>European journal of radiology</i> 126, (2020): 108941."
      ],
      "text/plain": [
       "<IPython.core.display.HTML object>"
      ]
     },
     "metadata": {},
     "output_type": "display_data"
    },
    {
     "data": {
      "text/html": [
       "[185] Lippi, Giuseppe; Henry, Brandon Michael. \"Active smoking is not associated with severity of coronavirus disease 2019 (COVID-19).\" <i>European journal of internal medicine</i> (2020)."
      ],
      "text/plain": [
       "<IPython.core.display.HTML object>"
      ]
     },
     "metadata": {},
     "output_type": "display_data"
    },
    {
     "data": {
      "text/html": [
       "[186] Chan, Ming-Chun; Yeo, Sharon E K; Chong, Yew-Lam; Lee, Yee-Mun. \"Stepping Forward: Urologists' Efforts During the COVID-19 Outbreak in Singapore.\" <i>European urology</i> (2020)."
      ],
      "text/plain": [
       "<IPython.core.display.HTML object>"
      ]
     },
     "metadata": {},
     "output_type": "display_data"
    },
    {
     "data": {
      "text/html": [
       "[187] Xia, Haifa; Zhao, Shuai; Wu, Zhouyang; Luo, Huilin; Zhou, Cheng; Chen, Xiangdong. \"Emergency Caesarean delivery in a patient with confirmed coronavirus disease 2019 under spinal anaesthesia.\" <i>British journal of anaesthesia</i> (2020)."
      ],
      "text/plain": [
       "<IPython.core.display.HTML object>"
      ]
     },
     "metadata": {},
     "output_type": "display_data"
    },
    {
     "data": {
      "text/html": [
       "[188] Ianiro, Gianluca; Mullish, Benjamin H; Kelly, Colleen R; Sokol, Harry; Kassam, Zain; Ng, Siew; Fischer, Monika; Allegretti, Jessica R; Masucci, Luca; Zhang, Faming; Keller, Josbert; Sanguinetti, Maurizio; Costello, Samuel P; Tilg, Herbert; Gasbarrini, Antonio; Cammarota, Giovanni. \"Screening of faecal microbiota transplant donors during the COVID-19 outbreak: suggestions for urgent updates from an international expert panel.\" <i>The lancet. Gastroenterology & hepatology</i> (2020)."
      ],
      "text/plain": [
       "<IPython.core.display.HTML object>"
      ]
     },
     "metadata": {},
     "output_type": "display_data"
    },
    {
     "data": {
      "text/html": [
       "[189] Li, Li; Xv, Qianghong; Yan, Jing. \"COVID-19: the need for continuous medical education and training.\" <i>The Lancet. Respiratory medicine</i> (2020)."
      ],
      "text/plain": [
       "<IPython.core.display.HTML object>"
      ]
     },
     "metadata": {},
     "output_type": "display_data"
    },
    {
     "data": {
      "text/html": [
       "[190] The Lancet Respiratory Medicine. \"COVID-19: delay, mitigate, and communicate.\" <i>The Lancet. Respiratory medicine</i> (2020)."
      ],
      "text/plain": [
       "<IPython.core.display.HTML object>"
      ]
     },
     "metadata": {},
     "output_type": "display_data"
    },
    {
     "data": {
      "text/html": [
       "[191] Wang, Jigang; Xu, Chengchao; Wong, Yin Kwan; He, Yingke; Adegnika, Ayola A; Kremsner, Peter G; Agnandji, Selidji T; Sall, Amadou A; Liang, Zhen; Qiu, Chen; Liao, Fu Long; Jiang, Tingliang; Krishna, Sanjeev; Tu, Youyou. \"Preparedness is essential for malaria-endemic regions during the COVID-19 pandemic.\" <i>Lancet (London, England)</i> (2020)."
      ],
      "text/plain": [
       "<IPython.core.display.HTML object>"
      ]
     },
     "metadata": {},
     "output_type": "display_data"
    },
    {
     "data": {
      "text/html": [
       "[192] Pung, Rachael; Chiew, Calvin J; Young, Barnaby E; Chin, Sarah; Chen, Mark I-C; Clapham, Hannah E; Cook, Alex R; Maurer-Stroh, Sebastian; Toh, Matthias P H S; Poh, Cuiqin; Low, Mabel; Lum, Joshua; Koh, Valerie T J; Mak, Tze M; Cui, Lin; Lin, Raymond V T P; Heng, Derrick; Leo, Yee-Sin; Lye, David C; Lee, Vernon J M. \"Investigation of three clusters of COVID-19 in Singapore: implications for surveillance and response measures.\" <i>Lancet (London, England)</i> (2020)."
      ],
      "text/plain": [
       "<IPython.core.display.HTML object>"
      ]
     },
     "metadata": {},
     "output_type": "display_data"
    },
    {
     "data": {
      "text/html": [
       "[193] Mehta, Puja; McAuley, Daniel F; Brown, Michael; Sanchez, Emilie; Tattersall, Rachel S; Manson, Jessica J. \"COVID-19: consider cytokine storm syndromes and immunosuppression.\" <i>Lancet (London, England)</i> (2020)."
      ],
      "text/plain": [
       "<IPython.core.display.HTML object>"
      ]
     },
     "metadata": {},
     "output_type": "display_data"
    },
    {
     "data": {
      "text/html": [
       "[194] Wang, Qiang; Yu, Chaoran. \"Letter to editor: Role of masks/respirator protection against 2019-novel coronavirus (COVID-19).\" <i>Infection control and hospital epidemiology</i> (2020): 1-7."
      ],
      "text/plain": [
       "<IPython.core.display.HTML object>"
      ]
     },
     "metadata": {},
     "output_type": "display_data"
    },
    {
     "data": {
      "text/html": [
       "[195] Abdi, Milad. \"Coronavirus disease 2019 (COVID-19) outbreak in Iran; actions and problems.\" <i>Infection control and hospital epidemiology</i> (2020): 1-5."
      ],
      "text/plain": [
       "<IPython.core.display.HTML object>"
      ]
     },
     "metadata": {},
     "output_type": "display_data"
    },
    {
     "data": {
      "text/html": [
       "[196] . \"COVID-19, Australia: Epidemiology Report 7 (Reporting week ending 19:00 AEDT 14 March 2020).\" <i>Communicable diseases intelligence (2018)</i> 44, (2020)."
      ],
      "text/plain": [
       "<IPython.core.display.HTML object>"
      ]
     },
     "metadata": {},
     "output_type": "display_data"
    },
    {
     "data": {
      "text/html": [
       "[197] Li, Y H; Shen, L; Li, J. \"[Chemotherapy strategy for colorectal cancer under the outbreak of corona virus disease 2019].\" <i>Zhonghua wei chang wai ke za zhi = Chinese journal of gastrointestinal surgery</i> 23, no. 3 (2020): 217-219."
      ],
      "text/plain": [
       "<IPython.core.display.HTML object>"
      ]
     },
     "metadata": {},
     "output_type": "display_data"
    },
    {
     "data": {
      "text/html": [
       "[198] Luo, Y; Zhong, M. \"[Standardized diagnosis and treatment of colorectal cancer during the outbreak of corona virus disease 2019 in Renji hospital].\" <i>Zhonghua wei chang wai ke za zhi = Chinese journal of gastrointestinal surgery</i> 23, no. 3 (2020): 211-216."
      ],
      "text/plain": [
       "<IPython.core.display.HTML object>"
      ]
     },
     "metadata": {},
     "output_type": "display_data"
    },
    {
     "data": {
      "text/html": [
       "[199] Yu, G Y; Lou, Z; Zhang, W. \"[Several suggestions of operation for colorectal cancer under the outbreak of corona virus disease 2019 in China].\" <i>Zhonghua wei chang wai ke za zhi = Chinese journal of gastrointestinal surgery</i> 23, no. 3 (2020): 208-211."
      ],
      "text/plain": [
       "<IPython.core.display.HTML object>"
      ]
     },
     "metadata": {},
     "output_type": "display_data"
    },
    {
     "data": {
      "text/html": [
       "[200] Hu, X H; Niu, W B; Zhang, J F; Li, B K; Yu, B; Zhang, Z Y; Zhou, C X; Zhang, X N; Gao, Y; Wang, G Y. \"[Treatment strategies for colorectal cancer patients in tumor hospitals under the background of corona virus disease 2019].\" <i>Zhonghua wei chang wai ke za zhi = Chinese journal of gastrointestinal surgery</i> 23, no. 3 (2020): 201-208."
      ],
      "text/plain": [
       "<IPython.core.display.HTML object>"
      ]
     },
     "metadata": {},
     "output_type": "display_data"
    },
    {
     "data": {
      "text/html": [
       "[201] Jee, Youngmee. \"WHO IHR Emergency Committee for the COVID-19 Outbreak.\" <i>Epidemiology and health</i> (2020): e2020013."
      ],
      "text/plain": [
       "<IPython.core.display.HTML object>"
      ]
     },
     "metadata": {},
     "output_type": "display_data"
    },
    {
     "data": {
      "text/html": [
       "[202] Orstavik, Ragnhild E. \"Covid-19: The right amount of wolf.\" <i>Tidsskrift for den Norske laegeforening : tidsskrift for praktisk medicin, ny</i> 140, no. 4 (2020)."
      ],
      "text/plain": [
       "<IPython.core.display.HTML object>"
      ]
     },
     "metadata": {},
     "output_type": "display_data"
    },
    {
     "data": {
      "text/html": [
       "[203] Touzard-Romo, Francine; Tape, Chantal; Lonks, John R. \"Co-infection with SARS-CoV-2 and Human Metapneumovirus.\" <i>Rhode Island medical journal (2013)</i> 103, no. 2 (2020): 75-76."
      ],
      "text/plain": [
       "<IPython.core.display.HTML object>"
      ]
     },
     "metadata": {},
     "output_type": "display_data"
    },
    {
     "data": {
      "text/html": [
       "[204] Wujtewicz, Magdalena; Dylczyk-Sommer, Anna; Aszkielowicz, Aleksander; Zdanowski, Szymon; Piwowarczyk, Sebastian; Owczuk, Radoslaw. \"\" <i>Anaesthesiology intensive therapy</i> 52, no. 1 (2020): 34-41."
      ],
      "text/plain": [
       "<IPython.core.display.HTML object>"
      ]
     },
     "metadata": {},
     "output_type": "display_data"
    },
    {
     "data": {
      "text/html": [
       "[205] Salathe, Marcel; Althaus, Christian L; Neher, Richard; Stringhini, Silvia; Hodcroft, Emma; Fellay, Jacques; Zwahlen, Marcel; Senti, Gabriela; Battegay, Manuel; Wilder-Smith, Annelies; Eckerle, Isabella; Egger, Matthias; Low, Nicola. \"COVID-19 epidemic in Switzerland: on the importance of testing, contact tracing and isolation.\" <i>Swiss medical weekly</i> 150, (2020): w20225."
      ],
      "text/plain": [
       "<IPython.core.display.HTML object>"
      ]
     },
     "metadata": {},
     "output_type": "display_data"
    },
    {
     "data": {
      "text/html": [
       "[206] Ng, Yixiang; Li, Zongbin; Chua, Yi Xian; Chaw, Wei Liang; Zhao, Zheng; Er, Benjamin; Pung, Rachael; Chiew, Calvin J; Lye, David C; Heng, Derrick; Lee, Vernon J. \"Evaluation of the Effectiveness of Surveillance and Containment Measures for the\" <i>MMWR. Morbidity and mortality weekly report</i> 69, no. 11 (2020): 307-311."
      ],
      "text/plain": [
       "<IPython.core.display.HTML object>"
      ]
     },
     "metadata": {},
     "output_type": "display_data"
    },
    {
     "data": {
      "text/html": [
       "[207] Kakimoto, Kensaku; Kamiya, Hajime; Yamagishi, Takuya; Matsui, Tamano; Suzuki, Motoi; Wakita, Takaji. \"Initial Investigation of Transmission of COVID-19 Among Crew Members During\" <i>MMWR. Morbidity and mortality weekly report</i> 69, no. 11 (2020): 312-313."
      ],
      "text/plain": [
       "<IPython.core.display.HTML object>"
      ]
     },
     "metadata": {},
     "output_type": "display_data"
    },
    {
     "data": {
      "text/html": [
       "[208] Cucinotta, Domenico; Vanelli, Maurizio. \"WHO Declares COVID-19 a Pandemic.\" <i>Acta bio-medica : Atenei Parmensis</i> 91, no. 1 (2020): 157-160."
      ],
      "text/plain": [
       "<IPython.core.display.HTML object>"
      ]
     },
     "metadata": {},
     "output_type": "display_data"
    },
    {
     "data": {
      "text/html": [
       "[209] Lippi, Giuseppe; Plebani, Mario. \"The critical role of laboratory medicine during coronavirus disease 2019 (COVID-19) and other viral outbreaks.\" <i>Clinical chemistry and laboratory medicine</i> (2020)."
      ],
      "text/plain": [
       "<IPython.core.display.HTML object>"
      ]
     },
     "metadata": {},
     "output_type": "display_data"
    },
    {
     "data": {
      "text/html": [
       "[210] Li, Lin; Qin, Lixin; Xu, Zeguo; Yin, Youbing; Wang, Xin; Kong, Bin; Bai, Junjie; Lu, Yi; Fang, Zhenghan; Song, Qi; Cao, Kunlin; Liu, Daliang; Wang, Guisheng; Xu, Qizhong; Fang, Xisheng; Zhang, Shiqin; Xia, Juan; Xia, Jun. \"Artificial Intelligence Distinguishes COVID-19 from Community Acquired Pneumonia on Chest CT.\" <i>Radiology</i> (2020): 200905."
      ],
      "text/plain": [
       "<IPython.core.display.HTML object>"
      ]
     },
     "metadata": {},
     "output_type": "display_data"
    },
    {
     "data": {
      "text/html": [
       "[211] Wang, Yuhui; Dong, Chengjun; Hu, Yue; Li, Chungao; Ren, Qianqian; Zhang, Xin; Shi, Heshui; Zhou, Min. \"Temporal Changes of CT Findings in 90 Patients with COVID-19 Pneumonia: A Longitudinal Study.\" <i>Radiology</i> (2020): 200843."
      ],
      "text/plain": [
       "<IPython.core.display.HTML object>"
      ]
     },
     "metadata": {},
     "output_type": "display_data"
    },
    {
     "data": {
      "text/html": [
       "[212] Sahu, Kamal Kant; Lal, Amos; Mishra, Ajay Kumar. \"COVID-2019 and Pregnancy: A plea for transparent reporting of all cases.\" <i>Acta obstetricia et gynecologica Scandinavica</i> (2020)."
      ],
      "text/plain": [
       "<IPython.core.display.HTML object>"
      ]
     },
     "metadata": {},
     "output_type": "display_data"
    },
    {
     "data": {
      "text/html": [
       "[213] Ioannidis, John P A. \"Coronavirus disease 2019: the harms of exaggerated information and non-evidence-based measures.\" <i>European journal of clinical investigation</i> (2020)."
      ],
      "text/plain": [
       "<IPython.core.display.HTML object>"
      ]
     },
     "metadata": {},
     "output_type": "display_data"
    },
    {
     "data": {
      "text/html": [
       "[214] Spinelli, A; Pellino, G. \"COVID-19 pandemic: perspectives on an unfolding crisis.\" <i>The British journal of surgery</i> (2020)."
      ],
      "text/plain": [
       "<IPython.core.display.HTML object>"
      ]
     },
     "metadata": {},
     "output_type": "display_data"
    },
    {
     "data": {
      "text/html": [
       "[215] Bachireddy, Chethan; Chen, Christopher; Dar, Mohammad. \"Securing the Safety Net and Protecting Public Health During a Pandemic: Medicaid's Response to COVID-19.\" <i>JAMA</i> (2020)."
      ],
      "text/plain": [
       "<IPython.core.display.HTML object>"
      ]
     },
     "metadata": {},
     "output_type": "display_data"
    },
    {
     "data": {
      "text/html": [
       "[216] Arentz, Matt; Yim, Eric; Klaff, Lindy; Lokhandwala, Sharukh; Riedo, Francis X; Chong, Maria; Lee, Melissa. \"Characteristics and Outcomes of 21 Critically Ill Patients With COVID-19 in Washington State.\" <i>JAMA</i> (2020)."
      ],
      "text/plain": [
       "<IPython.core.display.HTML object>"
      ]
     },
     "metadata": {},
     "output_type": "display_data"
    },
    {
     "data": {
      "text/html": [
       "[217] Koenig, Kristi L; Bey, Christian K; McDonald, Eric C. \"2019-nCoV: The Identify-Isolate-Inform (3I) Tool Applied to a Novel Emerging Coronavirus.\" <i>The western journal of emergency medicine</i> 21, no. 2 (2020): 184-190."
      ],
      "text/plain": [
       "<IPython.core.display.HTML object>"
      ]
     },
     "metadata": {},
     "output_type": "display_data"
    },
    {
     "data": {
      "text/html": [
       "[218] Du, Zhanwei; Xu, Xiaoke; Wu, Ye; Wang, Lin; Cowling, Benjamin J; Meyers, Lauren Ancel. \"Serial Interval of COVID-19 among Publicly Reported Confirmed Cases.\" <i>Emerging infectious diseases</i> 26, no. 6 (2020)."
      ],
      "text/plain": [
       "<IPython.core.display.HTML object>"
      ]
     },
     "metadata": {},
     "output_type": "display_data"
    },
    {
     "data": {
      "text/html": [
       "[219] Hussein, Julia. \"COVID-19: What implications for sexual and reproductive health and rights globally?\" <i>Sexual and reproductive health matters</i> (2020): 1-4."
      ],
      "text/plain": [
       "<IPython.core.display.HTML object>"
      ]
     },
     "metadata": {},
     "output_type": "display_data"
    },
    {
     "data": {
      "text/html": [
       "[220] Bashyam, Arjun M; Feldman, Steven R. \"Should patients stop their biologic treatment during the COVID-19 pandemic.\" <i>The Journal of dermatological treatment</i> (2020): 1-2."
      ],
      "text/plain": [
       "<IPython.core.display.HTML object>"
      ]
     },
     "metadata": {},
     "output_type": "display_data"
    },
    {
     "data": {
      "text/html": [
       "[221] Giovanetti, Marta; Angeletti, Silvia; Benvenuto, Domenico; Ciccozzi, Massimo. \"A doubt of multiple introduction of SARS-CoV-2 in Italy: a preliminary overview.\" <i>Journal of medical virology</i> (2020)."
      ],
      "text/plain": [
       "<IPython.core.display.HTML object>"
      ]
     },
     "metadata": {},
     "output_type": "display_data"
    },
    {
     "data": {
      "text/html": [
       "[222] Lu, Shubiao; Lin, Jinsong; Zhang, Zhiqiao; Xiao, Liping; Jiang, Zhijian; Chen, Jia; Hu, Chongjing; Luo, Shi. \"Alert for non-respiratory symptoms of Coronavirus Disease 2019 (COVID-19) patients in epidemic period: A case report of familial cluster with three asymptomatic COVID-19 patients.\" <i>Journal of medical virology</i> (2020)."
      ],
      "text/plain": [
       "<IPython.core.display.HTML object>"
      ]
     },
     "metadata": {},
     "output_type": "display_data"
    },
    {
     "data": {
      "text/html": [
       "[223] Iwen, Peter C; Stiles, Karen L; Pentella, Michael A. \"Safety Considerations in the Laboratory Testing of Specimens Suspected or Known to Contain the Severe Acute Respiratory Syndrome Coronavirus 2 (SARS-CoV-2).\" <i>American journal of clinical pathology</i> (2020)."
      ],
      "text/plain": [
       "<IPython.core.display.HTML object>"
      ]
     },
     "metadata": {},
     "output_type": "display_data"
    },
    {
     "data": {
      "text/html": [
       "[224] Mizumoto, Kenji; Chowell, Gerardo. \"Transmission potential of the novel coronavirus (COVID-19) onboard the diamond Princess Cruises Ship, 2020.\" <i>Infectious Disease Modelling</i> 5, (2020): 264-270."
      ],
      "text/plain": [
       "<IPython.core.display.HTML object>"
      ]
     },
     "metadata": {},
     "output_type": "display_data"
    },
    {
     "data": {
      "text/html": [
       "[225] Yuen, Kit-San; Ye, Zi-Wei; Fung, Sin-Yee; Chan, Chi-Ping; Jin, Dong-Yan. \"SARS-CoV-2 and COVID-19: The most important research questions.\" <i>Cell & bioscience</i> 10, (2020): 40."
      ],
      "text/plain": [
       "<IPython.core.display.HTML object>"
      ]
     },
     "metadata": {},
     "output_type": "display_data"
    },
    {
     "data": {
      "text/html": [
       "[226] Qing, Huiling; Li, Zhijie; Yang, Zhengwei; Shi, Menghai; Huang, Zixu; Song, Jinghui; Song, Zongming. \"The possibility of COVID-19 transmission from eye to nose.\" <i>Acta ophthalmologica</i> (2020)."
      ],
      "text/plain": [
       "<IPython.core.display.HTML object>"
      ]
     },
     "metadata": {},
     "output_type": "display_data"
    },
    {
     "data": {
      "text/html": [
       "[227] Liang, Liang; Wu, Ping. \"There may be virus in conjunctival secretion of patients with COVID-19.\" <i>Acta ophthalmologica</i> (2020)."
      ],
      "text/plain": [
       "<IPython.core.display.HTML object>"
      ]
     },
     "metadata": {},
     "output_type": "display_data"
    },
    {
     "data": {
      "text/html": [
       "[228] Olds, J L; Kabbani, N. \"Is nicotine exposure linked to cardiopulmonary vulnerability to COVID-19 in the general population?\" <i>The FEBS journal</i> (2020)."
      ],
      "text/plain": [
       "<IPython.core.display.HTML object>"
      ]
     },
     "metadata": {},
     "output_type": "display_data"
    },
    {
     "data": {
      "text/html": [
       "[229] Zhang, Xiangmin; Song, Wei; Liu, Xingli; Lyu, Liang. \"CT image of novel coronavirus pneumonia: a case report.\" <i>Japanese journal of radiology</i> (2020)."
      ],
      "text/plain": [
       "<IPython.core.display.HTML object>"
      ]
     },
     "metadata": {},
     "output_type": "display_data"
    },
    {
     "data": {
      "text/html": [
       "[230] Sun, Qin; Qiu, Haibo; Huang, Mao; Yang, Yi. \"Lower mortality of COVID-19 by early recognition and intervention: experience from Jiangsu Province.\" <i>Annals of intensive care</i> 10, no. 1 (2020): 33."
      ],
      "text/plain": [
       "<IPython.core.display.HTML object>"
      ]
     },
     "metadata": {},
     "output_type": "display_data"
    },
    {
     "data": {
      "text/html": [
       "[231] Santosh, K C. \"AI-Driven Tools for Coronavirus Outbreak: Need of Active Learning and Cross-Population Train/Test Models on Multitudinal/Multimodal Data.\" <i>Journal of medical systems</i> 44, no. 5 (2020): 93."
      ],
      "text/plain": [
       "<IPython.core.display.HTML object>"
      ]
     },
     "metadata": {},
     "output_type": "display_data"
    },
    {
     "data": {
      "text/html": [
       "[232] Thomas-Ruddel, D; Winning, J; Dickmann, P; Ouart, D; Kortgen, A; Janssens, U; Bauer, M. \"[Coronavirus disease 2019 (COVID-19): update for anesthesiologists and intensivists March 2020].\" <i>Der Anaesthesist</i> (2020)."
      ],
      "text/plain": [
       "<IPython.core.display.HTML object>"
      ]
     },
     "metadata": {},
     "output_type": "display_data"
    },
    {
     "data": {
      "text/html": [
       "[233] Arabi, Yaseen M; Murthy, Srinivas; Webb, Steve. \"Correction to: COVID-19: a novel coronavirus and a novel challenge for critical care.\" <i>Intensive care medicine</i> (2020)."
      ],
      "text/plain": [
       "<IPython.core.display.HTML object>"
      ]
     },
     "metadata": {},
     "output_type": "display_data"
    },
    {
     "data": {
      "text/html": [
       "[234] Karako, Kenji; Song, Peipei; Chen, Yu; Tang, Wei. \"Analysis of COVID-19 infection spread in Japan based on stochastic transition model.\" <i>Bioscience trends</i> (2020)."
      ],
      "text/plain": [
       "<IPython.core.display.HTML object>"
      ]
     },
     "metadata": {},
     "output_type": "display_data"
    },
    {
     "data": {
      "text/html": [
       "[235] Meyers, Blake C; Baxter, Ivan R; Blatt, Mike R; Sweetlove, Lee J; Daniell, Henry; Lunn, John E; Taylor, Crispin; Winchester, Nancy Ann. \"Journal Flexibility in the Troubling Times of COVID-19.\" <i>The Plant cell</i> (2020)."
      ],
      "text/plain": [
       "<IPython.core.display.HTML object>"
      ]
     },
     "metadata": {},
     "output_type": "display_data"
    },
    {
     "data": {
      "text/html": [
       "[236] Weston, Stuart; Frieman, Matthew B. \"COVID-19: Knowns, Unknowns, and Questions.\" <i>mSphere</i> 5, no. 2 (2020)."
      ],
      "text/plain": [
       "<IPython.core.display.HTML object>"
      ]
     },
     "metadata": {},
     "output_type": "display_data"
    },
    {
     "data": {
      "text/html": [
       "[237] Iacobucci, Gareth. \"Covid-19: all non-urgent elective surgery is suspended for at least three months in England.\" <i>BMJ (Clinical research ed.)</i> 368, (2020): m1106."
      ],
      "text/plain": [
       "<IPython.core.display.HTML object>"
      ]
     },
     "metadata": {},
     "output_type": "display_data"
    },
    {
     "data": {
      "text/html": [
       "[238] Tanne, Janice Hopkins; Hayasaki, Erika; Zastrow, Mark; Pulla, Priyanka; Smith, Paul; Rada, Acer Garcia. \"Covid-19: how doctors and healthcare systems are tackling coronavirus worldwide.\" <i>BMJ (Clinical research ed.)</i> 368, (2020): m1090."
      ],
      "text/plain": [
       "<IPython.core.display.HTML object>"
      ]
     },
     "metadata": {},
     "output_type": "display_data"
    },
    {
     "data": {
      "text/html": [
       "[239] Anderson, Michael; Mckee, Martin; Mossialos, Elias. \"Covid-19 exposes weaknesses in European response to outbreaks.\" <i>BMJ (Clinical research ed.)</i> 368, (2020): m1075."
      ],
      "text/plain": [
       "<IPython.core.display.HTML object>"
      ]
     },
     "metadata": {},
     "output_type": "display_data"
    },
    {
     "data": {
      "text/html": [
       "[240] Rimmer, Abi. \"Covid-19: pregnant doctors should speak to occupational health, say experts.\" <i>BMJ (Clinical research ed.)</i> 368, (2020): m1104."
      ],
      "text/plain": [
       "<IPython.core.display.HTML object>"
      ]
     },
     "metadata": {},
     "output_type": "display_data"
    },
    {
     "data": {
      "text/html": [
       "[241] Shi, Yu; Yu, Xia; Zhao, Hong; Wang, Hao; Zhao, Ruihong; Sheng, Jifang. \"Host susceptibility to severe COVID-19 and establishment of a host risk score: findings of 487 cases outside Wuhan.\" <i>Critical care (London, England)</i> 24, no. 1 (2020): 108."
      ],
      "text/plain": [
       "<IPython.core.display.HTML object>"
      ]
     },
     "metadata": {},
     "output_type": "display_data"
    },
    {
     "data": {
      "text/html": [
       "[242] Wang, Hongliang; Wang, Sicong; Yu, Kaijiang. \"COVID-19 infection epidemic: the medical management strategies in Heilongjiang Province, China.\" <i>Critical care (London, England)</i> 24, no. 1 (2020): 107."
      ],
      "text/plain": [
       "<IPython.core.display.HTML object>"
      ]
     },
     "metadata": {},
     "output_type": "display_data"
    },
    {
     "data": {
      "text/html": [
       "[243] Mian, Areeb; Khan, Shujhat. \"Coronavirus: the spread of misinformation.\" <i>BMC medicine</i> 18, no. 1 (2020): 89."
      ],
      "text/plain": [
       "<IPython.core.display.HTML object>"
      ]
     },
     "metadata": {},
     "output_type": "display_data"
    },
    {
     "data": {
      "text/html": [
       "[244] De Ceukelaire, Wim; Bodini, Chiara. \"We Need Strong Public Health Care to Contain the Global Corona Pandemic.\" <i>International journal of health services : planning, administration, evaluation</i> (2020): 20731420916725."
      ],
      "text/plain": [
       "<IPython.core.display.HTML object>"
      ]
     },
     "metadata": {},
     "output_type": "display_data"
    },
    {
     "data": {
      "text/html": [
       "[245] Tian, H Y. \"[2019-nCoV: new challenges from coronavirus].\" <i>Zhonghua yu fang yi xue za zhi [Chinese journal of preventive medicine]</i> 54, no. 3 (2020): 235-238."
      ],
      "text/plain": [
       "<IPython.core.display.HTML object>"
      ]
     },
     "metadata": {},
     "output_type": "display_data"
    },
    {
     "data": {
      "text/html": [
       "[246] Si, Y; Sun, X F; Zhong, M; Yue, J N; Fu, W G. \"[Countermeasures and treatment for aortic acute syndrome with 2019 coronavirus disease].\" <i>Zhonghua wai ke za zhi [Chinese journal of surgery]</i> 58, no. 3 (2020): 178-182."
      ],
      "text/plain": [
       "<IPython.core.display.HTML object>"
      ]
     },
     "metadata": {},
     "output_type": "display_data"
    },
    {
     "data": {
      "text/html": [
       "[247] Tao, K X; Zhang, B X; Zhang, P; Zhu, P; Wang, G B; Chen, X P. \"[Recommendations for general surgery clinical practice in 2019 coronavirus disease situation].\" <i>Zhonghua wai ke za zhi [Chinese journal of surgery]</i> 58, no. 3 (2020): 170-177."
      ],
      "text/plain": [
       "<IPython.core.display.HTML object>"
      ]
     },
     "metadata": {},
     "output_type": "display_data"
    },
    {
     "data": {
      "text/html": [
       "[248] Li, Yuanzhe; Guo, FeiFei; Cao, Yang; Li, LiFeng; Guo, YanJun. \"Insight into COVID-2019 for pediatricians.\" <i>Pediatric pulmonology</i> (2020)."
      ],
      "text/plain": [
       "<IPython.core.display.HTML object>"
      ]
     },
     "metadata": {},
     "output_type": "display_data"
    },
    {
     "data": {
      "text/html": [
       "[249] Cossarizza, Andrea; De Biasi, Sara; Guaraldi, Giovanni; Girardis, Massimo; Mussini, Cristina. \"SARS-CoV-2, the Virus that Causes COVID-19: Cytometry and the New Challenge for Global Health.\" <i>Cytometry. Part A : the journal of the International Society for Analytical</i> (2020)."
      ],
      "text/plain": [
       "<IPython.core.display.HTML object>"
      ]
     },
     "metadata": {},
     "output_type": "display_data"
    },
    {
     "data": {
      "text/html": [
       "[250] Tarnok, Attila. \"The Cholera Epidemics in Hamburg and What to Learn for COVID-19 (SARS-CoV-2).\" <i>Cytometry. Part A : the journal of the International Society for Analytical</i> (2020)."
      ],
      "text/plain": [
       "<IPython.core.display.HTML object>"
      ]
     },
     "metadata": {},
     "output_type": "display_data"
    },
    {
     "data": {
      "text/html": [
       "[251] Rubin, Eric J; Baden, Lindsey R; Morrissey, Stephen. \"Audio Interview: New Research on Possible Treatments for Covid-19.\" <i>The New England journal of medicine</i> 382, no. 12 (2020): e30."
      ],
      "text/plain": [
       "<IPython.core.display.HTML object>"
      ]
     },
     "metadata": {},
     "output_type": "display_data"
    },
    {
     "data": {
      "text/html": [
       "[252] Cao, Bin; Wang, Yeming; Wen, Danning; Liu, Wen; Wang, Jingli; Fan, Guohui; Ruan, Lianguo; Song, Bin; Cai, Yanping; Wei, Ming; Li, Xingwang; Xia, Jiaan; Chen, Nanshan; Xiang, Jie; Yu, Ting; Bai, Tao; Xie, Xuelei; Zhang, Li; Li, Caihong; Yuan, Ye; Chen, Hua; Li, Huadong; Huang, Hanping; Tu, Shengjing; Gong, Fengyun; Liu, Ying; Wei, Yuan; Dong, Chongya; Zhou, Fei; Gu, Xiaoying; Xu, Jiuyang; Liu, Zhibo; Zhang, Yi; Li, Hui; Shang, Lianhan; Wang, Ke; Li, Kunxia; Zhou, Xia; Dong, Xuan; Qu, Zhaohui; Lu, Sixia; Hu, Xujuan; Ruan, Shunan; Luo, Shanshan; Wu, Jing; Peng, Lu; Cheng, Fang; Pan, Lihong; Zou, Jun; Jia, Chunmin; Wang, Juan; Liu, Xia; Wang, Shuzhen; Wu, Xudong; Ge, Qin; He, Jing; Zhan, Haiyan; Qiu, Fang; Guo, Li; Huang, Chaolin; Jaki, Thomas; Hayden, Frederick G; Horby, Peter W; Zhang, Dingyu; Wang, Chen. \"A Trial of Lopinavir-Ritonavir in Adults Hospitalized with Severe Covid-19.\" <i>The New England journal of medicine</i> (2020)."
      ],
      "text/plain": [
       "<IPython.core.display.HTML object>"
      ]
     },
     "metadata": {},
     "output_type": "display_data"
    },
    {
     "data": {
      "text/html": [
       "[253] Baden, Lindsey R; Rubin, Eric J. \"\" <i>The New England journal of medicine</i> (2020)."
      ],
      "text/plain": [
       "<IPython.core.display.HTML object>"
      ]
     },
     "metadata": {},
     "output_type": "display_data"
    },
    {
     "data": {
      "text/html": [
       "[254] Parmet, Wendy E; Sinha, Michael S. \"\" <i>The New England journal of medicine</i> (2020)."
      ],
      "text/plain": [
       "<IPython.core.display.HTML object>"
      ]
     },
     "metadata": {},
     "output_type": "display_data"
    },
    {
     "data": {
      "text/html": [
       "[255] Rosenbaum, Lisa. \"\" <i>The New England journal of medicine</i> (2020)."
      ],
      "text/plain": [
       "<IPython.core.display.HTML object>"
      ]
     },
     "metadata": {},
     "output_type": "display_data"
    },
    {
     "data": {
      "text/html": [
       "[256] Thomson, George. \"COVID-19: social distancing, ACE 2 receptors, protease inhibitors and beyond?\" <i>International journal of clinical practice</i> (2020): e13503."
      ],
      "text/plain": [
       "<IPython.core.display.HTML object>"
      ]
     },
     "metadata": {},
     "output_type": "display_data"
    },
    {
     "data": {
      "text/html": [
       "[257] Lana, Raquel Martins; Coelho, Flavio Codeco; Gomes, Marcelo Ferreira da Costa; Cruz, Oswaldo Goncalves; Bastos, Leonardo Soares; Villela, Daniel Antunes Maciel; Codeco, Claudia Torres. \"The novel coronavirus (SARS-CoV-2) emergency and the role of timely and effective national health surveillance.\" <i>Cadernos de saude publica</i> 36, no. 3 (2020): e00019620."
      ],
      "text/plain": [
       "<IPython.core.display.HTML object>"
      ]
     },
     "metadata": {},
     "output_type": "display_data"
    },
    {
     "data": {
      "text/html": [
       "[258] Silva, Antonio Augusto Moura da. \"On the possibility of interrupting the coronavirus (COVID-19) epidemic based on the best available scientific evidence.\" <i>Revista brasileira de epidemiologia = Brazilian journal of epidemiology</i> 23, (2020): e200021."
      ],
      "text/plain": [
       "<IPython.core.display.HTML object>"
      ]
     },
     "metadata": {},
     "output_type": "display_data"
    },
    {
     "data": {
      "text/html": [
       "[259] Frieden, Thomas R; Lee, Christopher T. \"Identifying and Interrupting Superspreading Events-Implications for Control of Severe Acute Respiratory Syndrome Coronavirus 2.\" <i>Emerging infectious diseases</i> 26, no. 6 (2020)."
      ],
      "text/plain": [
       "<IPython.core.display.HTML object>"
      ]
     },
     "metadata": {},
     "output_type": "display_data"
    },
    {
     "data": {
      "text/html": [
       "[260] Dhama, Kuldeep; Sharun, Khan; Tiwari, Ruchi; Dadar, Maryam; Malik, Yashpal Singh; Singh, Karam Pal; Chaicumpa, Wanpen. \"COVID-19, an emerging coronavirus infection: advances and prospects in designing and developing vaccines, immunotherapeutics, and therapeutics.\" <i>Human vaccines & immunotherapeutics</i> (2020): 1-7."
      ],
      "text/plain": [
       "<IPython.core.display.HTML object>"
      ]
     },
     "metadata": {},
     "output_type": "display_data"
    },
    {
     "data": {
      "text/html": [
       "[261] Liu, Dehan; Li, Lin; Wu, Xin; Zheng, Dandan; Wang, Jiazheng; Yang, Lian; Zheng, Chuansheng. \"Pregnancy and Perinatal Outcomes of Women With Coronavirus Disease (COVID-19) Pneumonia: A Preliminary Analysis.\" <i>AJR. American journal of roentgenology</i> (2020): 1-6."
      ],
      "text/plain": [
       "<IPython.core.display.HTML object>"
      ]
     },
     "metadata": {},
     "output_type": "display_data"
    },
    {
     "data": {
      "text/html": [
       "[262] Diaz, James H. \"Hypothesis: angiotensin-converting enzyme inhibitors and angiotensin receptor blockers may increase the risk of severe COVID-19.\" <i>Journal of travel medicine</i> (2020)."
      ],
      "text/plain": [
       "<IPython.core.display.HTML object>"
      ]
     },
     "metadata": {},
     "output_type": "display_data"
    },
    {
     "data": {
      "text/html": [
       "[263] Gostin, Lawrence O; Hodge, James G Jr; Wiley, Lindsay F. \"Presidential Powers and Response to COVID-19.\" <i>JAMA</i> (2020)."
      ],
      "text/plain": [
       "<IPython.core.display.HTML object>"
      ]
     },
     "metadata": {},
     "output_type": "display_data"
    },
    {
     "data": {
      "text/html": [
       "[264] van der Werf, Sylvie; Peltekian, Cecile. \"Facing challenges with the novel coronavirus SARS-CoV-2 outbreak\" <i>Virologie (Montrouge, France)</i> (2020)."
      ],
      "text/plain": [
       "<IPython.core.display.HTML object>"
      ]
     },
     "metadata": {},
     "output_type": "display_data"
    },
    {
     "data": {
      "text/html": [
       "[265] Tolksdorf, Kristin; Buda, Silke; Schuler, Ekkehard; Wieler, Lothar H; Haas, Walter. \"Influenza-associated pneumonia as reference to assess seriousness of coronavirus disease (COVID-19).\" <i>Euro surveillance : bulletin Europeen sur les maladies transmissibles = European</i> (2020)."
      ],
      "text/plain": [
       "<IPython.core.display.HTML object>"
      ]
     },
     "metadata": {},
     "output_type": "display_data"
    },
    {
     "data": {
      "text/html": [
       "[266] Kinross, Pete; Suetens, Carl; Gomes Dias, Joana; Alexakis, Leonidas; Wijermans, Ariana; Colzani, Edoardo; Monnet, Dominique L; European Centre For Disease Prevention And Control Ecdc Public Health Emergency. \"Rapidly increasing cumulative incidence of coronavirus disease (COVID-19) in the European Union/European Economic Area and the United Kingdom, 1 January to 15 March 2020.\" <i>Euro surveillance : bulletin Europeen sur les maladies transmissibles = European</i> (2020)."
      ],
      "text/plain": [
       "<IPython.core.display.HTML object>"
      ]
     },
     "metadata": {},
     "output_type": "display_data"
    },
    {
     "data": {
      "text/html": [
       "[267] Li, H C; Ma, J; Zhang, H; Cheng, Y; Wang, X; Hu, Z W; Li, N; Deng, X R; Zhang, Y; Zheng, X Z; Yang, F; Weng, H Y; Dong, J P; Liu, J W; Wang, Y Y; Liu, X M. \"[Thoughts and practice on the treatment of severe and critical new coronavirus pneumonia].\" <i>Zhonghua jie he he hu xi za zhi = Zhonghua jiehe he huxi zazhi = Chinese journal</i> 43, no. 0 (2020): E038."
      ],
      "text/plain": [
       "<IPython.core.display.HTML object>"
      ]
     },
     "metadata": {},
     "output_type": "display_data"
    },
    {
     "data": {
      "text/html": [
       "[268] Qiu, H J; Yuan, L X; Huang, X K; Zhou, Y Q; Wu, Q W; Zheng, R; Yang, Q T. \"[Using the big data ofinternet to understand coronavirus disease 2019's symptom characteristics: a big data study].\" <i>Zhonghua er bi yan hou tou jing wai ke za zhi = Chinese journal of</i> 55, no. 0 (2020): E004."
      ],
      "text/plain": [
       "<IPython.core.display.HTML object>"
      ]
     },
     "metadata": {},
     "output_type": "display_data"
    },
    {
     "data": {
      "text/html": [
       "[269] Zhu, G D; Cao, J. \"[Challenges and countermeasures on Chinese malaria elimination programme during the coronavirus disease 2019 (COVID-19) outbreak].\" <i>Zhongguo xue xi chong bing fang zhi za zhi = Chinese journal of schistosomiasis</i> 32, no. 1 (2020): 7-9."
      ],
      "text/plain": [
       "<IPython.core.display.HTML object>"
      ]
     },
     "metadata": {},
     "output_type": "display_data"
    },
    {
     "data": {
      "text/html": [
       "[270] Gunner, Charlotte K; Oliphant, R; Watson, Angus Jm. \"Crises drive innovation.\" <i>Colorectal disease : the official journal of the Association of Coloproctology of</i> (2020)."
      ],
      "text/plain": [
       "<IPython.core.display.HTML object>"
      ]
     },
     "metadata": {},
     "output_type": "display_data"
    },
    {
     "data": {
      "text/html": [
       "[271] Nakajima, Kento; Kato, Hideaki; Yamashiro, Tsuneo; Izumi, Toshiharu; Takeuchi, Ichiro; Nakajima, Hideaki; Utsunomiya, Daisuke. \"COVID-19 pneumonia: infection control protocol inside computed tomography suites.\" <i>Japanese journal of radiology</i> (2020)."
      ],
      "text/plain": [
       "<IPython.core.display.HTML object>"
      ]
     },
     "metadata": {},
     "output_type": "display_data"
    },
    {
     "data": {
      "text/html": [
       "[272] Salzberger, Bernd; Gluck, Thomas; Ehrenstein, Boris. \"Successful containment of COVID-19: the WHO-Report on the COVID-19 outbreak in China.\" <i>Infection</i> (2020)."
      ],
      "text/plain": [
       "<IPython.core.display.HTML object>"
      ]
     },
     "metadata": {},
     "output_type": "display_data"
    },
    {
     "data": {
      "text/html": [
       "[273] Rashidi Fakari, Farzaneh; Simbar, Masoumeh. \"Coronavirus Pandemic and Worries during Pregnancy; a Letter to Editor.\" <i>Archives of academic emergency medicine</i> 8, no. 1 (2020): e21."
      ],
      "text/plain": [
       "<IPython.core.display.HTML object>"
      ]
     },
     "metadata": {},
     "output_type": "display_data"
    },
    {
     "data": {
      "text/html": [
       "[274] Ashrafi-Rizi, Hasan; Kazempour, Zahra. \"Information Typology in Coronavirus (COVID-19) Crisis; a Commentary.\" <i>Archives of academic emergency medicine</i> 8, no. 1 (2020): e19."
      ],
      "text/plain": [
       "<IPython.core.display.HTML object>"
      ]
     },
     "metadata": {},
     "output_type": "display_data"
    },
    {
     "data": {
      "text/html": [
       "[275] Rismanbaf, Ali; Zarei, Sara. \"Liver and Kidney Injuries in COVID-19 and Their Effects on Drug Therapy; a Letter to Editor.\" <i>Archives of academic emergency medicine</i> 8, no. 1 (2020): e17."
      ],
      "text/plain": [
       "<IPython.core.display.HTML object>"
      ]
     },
     "metadata": {},
     "output_type": "display_data"
    },
    {
     "data": {
      "text/html": [
       "[276] Castro, Helena Carla; Lins Ramos, Alex Sandro; Amorim, Gildete; Ratcliffe, Norman Arthur. \"COVID-19: don't forget deaf people.\" <i>Nature</i> 579, no. 7799 (2020): 343."
      ],
      "text/plain": [
       "<IPython.core.display.HTML object>"
      ]
     },
     "metadata": {},
     "output_type": "display_data"
    },
    {
     "data": {
      "text/html": [
       "[277] Salisbury, Helen. \"Helen Salisbury: What might we learn from the covid-19 pandemic?\" <i>BMJ (Clinical research ed.)</i> 368, (2020): m1087."
      ],
      "text/plain": [
       "<IPython.core.display.HTML object>"
      ]
     },
     "metadata": {},
     "output_type": "display_data"
    },
    {
     "data": {
      "text/html": [
       "[278] Ebrahim, Shahul H; Ahmed, Qanta A; Gozzer, Ernesto; Schlagenhauf, Patricia; Memish, Ziad A. \"Covid-19 and community mitigation strategies in a pandemic.\" <i>BMJ (Clinical research ed.)</i> 368, (2020): m1066."
      ],
      "text/plain": [
       "<IPython.core.display.HTML object>"
      ]
     },
     "metadata": {},
     "output_type": "display_data"
    },
    {
     "data": {
      "text/html": [
       "[279] Karan, Abraar. \"To control the covid-19 outbreak, young, healthy patients should avoid the emergency department.\" <i>BMJ (Clinical research ed.)</i> 368, (2020): m1040."
      ],
      "text/plain": [
       "<IPython.core.display.HTML object>"
      ]
     },
     "metadata": {},
     "output_type": "display_data"
    },
    {
     "data": {
      "text/html": [
       "[280] Dyer, Owen. \"Covid-19: Trump sought to buy vaccine developer exclusively for US, say German officials.\" <i>BMJ (Clinical research ed.)</i> 368, (2020): m1100."
      ],
      "text/plain": [
       "<IPython.core.display.HTML object>"
      ]
     },
     "metadata": {},
     "output_type": "display_data"
    },
    {
     "data": {
      "text/html": [
       "[281] Rimmer, Abi. \"Covid-19: trainees will not move jobs in April.\" <i>BMJ (Clinical research ed.)</i> 368, (2020): m1088."
      ],
      "text/plain": [
       "<IPython.core.display.HTML object>"
      ]
     },
     "metadata": {},
     "output_type": "display_data"
    },
    {
     "data": {
      "text/html": [
       "[282] Rimmer, Abi. \"Covid-19: BMA calls for rapid testing and appropriate protective equipment for doctors.\" <i>BMJ (Clinical research ed.)</i> 368, (2020): m1099."
      ],
      "text/plain": [
       "<IPython.core.display.HTML object>"
      ]
     },
     "metadata": {},
     "output_type": "display_data"
    },
    {
     "data": {
      "text/html": [
       "[283] Iacobucci, Gareth. \"Covid-19: Doctors warn of humanitarian catastrophe at Europe's largest refugee camp.\" <i>BMJ (Clinical research ed.)</i> 368, (2020): m1097."
      ],
      "text/plain": [
       "<IPython.core.display.HTML object>"
      ]
     },
     "metadata": {},
     "output_type": "display_data"
    },
    {
     "data": {
      "text/html": [
       "[284] Mahase, Elisabeth. \"Covid-19: UK starts social distancing after new model points to 260 000 potential deaths.\" <i>BMJ (Clinical research ed.)</i> 368, (2020): m1089."
      ],
      "text/plain": [
       "<IPython.core.display.HTML object>"
      ]
     },
     "metadata": {},
     "output_type": "display_data"
    },
    {
     "data": {
      "text/html": [
       "[285] Day, Michael. \"Covid-19: ibuprofen should not be used for managing symptoms, say doctors and scientists.\" <i>BMJ (Clinical research ed.)</i> 368, (2020): m1086."
      ],
      "text/plain": [
       "<IPython.core.display.HTML object>"
      ]
     },
     "metadata": {},
     "output_type": "display_data"
    },
    {
     "data": {
      "text/html": [
       "[286] Laupacis, Andreas. \"Working together to contain and manage COVID-19.\" <i>CMAJ : Canadian Medical Association journal = journal de l'Association medicale</i> (2020)."
      ],
      "text/plain": [
       "<IPython.core.display.HTML object>"
      ]
     },
     "metadata": {},
     "output_type": "display_data"
    },
    {
     "data": {
      "text/html": [
       "[287] Zheng, Ruizhi; Xu, Yu; Wang, Weiqing; Ning, Guang; Bi, Yufang. \"Spatial transmission of COVID-19 via public and private transportation in China.\" <i>Travel medicine and infectious disease</i> (2020): 101626."
      ],
      "text/plain": [
       "<IPython.core.display.HTML object>"
      ]
     },
     "metadata": {},
     "output_type": "display_data"
    },
    {
     "data": {
      "text/html": [
       "[288] Su, Yu-Jang; Lai, Yen-Chun. \"Comparison of clinical characteristics of coronavirus disease (COVID-19) and severe acute respiratory syndrome (SARS) as experienced in Taiwan.\" <i>Travel medicine and infectious disease</i> (2020): 101625."
      ],
      "text/plain": [
       "<IPython.core.display.HTML object>"
      ]
     },
     "metadata": {},
     "output_type": "display_data"
    },
    {
     "data": {
      "text/html": [
       "[289] Arab-Mazar, Zahra; Sah, Ranjit; Rabaan, Ali A; Dhama, Kuldeep; Rodriguez-Morales, Alfonso J. \"\" <i>Travel medicine and infectious disease</i> (2020): 101630."
      ],
      "text/plain": [
       "<IPython.core.display.HTML object>"
      ]
     },
     "metadata": {},
     "output_type": "display_data"
    },
    {
     "data": {
      "text/html": [
       "[290] Ahmed, Qanta A; Memish, Ziad A. \"The cancellation of mass gatherings (MGs)? Decision making in the time of COVID-19.\" <i>Travel medicine and infectious disease</i> (2020): 101631."
      ],
      "text/plain": [
       "<IPython.core.display.HTML object>"
      ]
     },
     "metadata": {},
     "output_type": "display_data"
    },
    {
     "data": {
      "text/html": [
       "[291] Gherghel, Iulian; Bulai, Mihai. \"Is Romania ready to face the novel coronavirus (COVID-19) outbreak? The role of incoming travelers and that of Romanian diaspora.\" <i>Travel medicine and infectious disease</i> (2020): 101628."
      ],
      "text/plain": [
       "<IPython.core.display.HTML object>"
      ]
     },
     "metadata": {},
     "output_type": "display_data"
    },
    {
     "data": {
      "text/html": [
       "[292] Grifoni, Alba; Sidney, John; Zhang, Yun; Scheuermann, Richard H; Peters, Bjoern; Sette, Alessandro. \"A Sequence Homology and Bioinformatic Approach Can Predict Candidate Targets for Immune Responses to SARS-CoV-2.\" <i>Cell host & microbe</i> (2020)."
      ],
      "text/plain": [
       "<IPython.core.display.HTML object>"
      ]
     },
     "metadata": {},
     "output_type": "display_data"
    },
    {
     "data": {
      "text/html": [
       "[293] Eurosurveillance Editorial Team. \"Updated rapid risk assessment from ECDC on the novel coronavirus disease 2019 (COVID-19) pandemic: increased transmission in the EU/EEA and the UK.\" <i>Euro surveillance : bulletin Europeen sur les maladies transmissibles = European</i> 25, no. 10 (2020)."
      ],
      "text/plain": [
       "<IPython.core.display.HTML object>"
      ]
     },
     "metadata": {},
     "output_type": "display_data"
    },
    {
     "data": {
      "text/html": [
       "[294] Li, Cuilian; Chen, Li Jia; Chen, Xueyu; Zhang, Mingzhi; Pang, Chi Pui; Chen, Haoyu. \"Retrospective analysis of the possibility of predicting the COVID-19 outbreak from Internet searches and social media data, China, 2020.\" <i>Euro surveillance : bulletin Europeen sur les maladies transmissibles = European</i> 25, no. 10 (2020)."
      ],
      "text/plain": [
       "<IPython.core.display.HTML object>"
      ]
     },
     "metadata": {},
     "output_type": "display_data"
    },
    {
     "data": {
      "text/html": [
       "[295] Xing, Yuanyuan; Mo, Pingzheng; Xiao, Yu; Zhao, Oiu; Zhang, Yongxi; Wang, Fan. \"Post-discharge surveillance and positive virus detection in two medical staff recovered from coronavirus disease 2019 (COVID-19), China, January to February 2020.\" <i>Euro surveillance : bulletin Europeen sur les maladies transmissibles = European</i> 25, no. 10 (2020)."
      ],
      "text/plain": [
       "<IPython.core.display.HTML object>"
      ]
     },
     "metadata": {},
     "output_type": "display_data"
    },
    {
     "data": {
      "text/html": [
       "[296] Mizumoto, Kenji; Kagaya, Katsushi; Zarebski, Alexander; Chowell, Gerardo. \"Estimating the asymptomatic proportion of coronavirus disease 2019 (COVID-19) cases on board the Diamond Princess cruise ship, Yokohama, Japan, 2020.\" <i>Euro surveillance : bulletin Europeen sur les maladies transmissibles = European</i> 25, no. 10 (2020)."
      ],
      "text/plain": [
       "<IPython.core.display.HTML object>"
      ]
     },
     "metadata": {},
     "output_type": "display_data"
    },
    {
     "data": {
      "text/html": [
       "[297] Leung, Char. \"The difference in the incubation period of 2019 novel coronavirus (SARS-CoV-2) infection between travelers to Hubei and non-travelers: The need of a longer quarantine period.\" <i>Infection control and hospital epidemiology</i> (2020): 1-8."
      ],
      "text/plain": [
       "<IPython.core.display.HTML object>"
      ]
     },
     "metadata": {},
     "output_type": "display_data"
    },
    {
     "data": {
      "text/html": [
       "[298] Adhikari, Sasmita Poudel; Meng, Sha; Wu, Yu-Ju; Mao, Yu-Ping; Ye, Rui-Xue; Wang, Qing-Zhi; Sun, Chang; Sylvia, Sean; Rozelle, Scott; Raat, Hein; Zhou, Huan. \"Epidemiology, causes, clinical manifestation and diagnosis, prevention and control of coronavirus disease (COVID-19) during the early outbreak period: a scoping review.\" <i>Infectious diseases of poverty</i> 9, no. 1 (2020): 29."
      ],
      "text/plain": [
       "<IPython.core.display.HTML object>"
      ]
     },
     "metadata": {},
     "output_type": "display_data"
    },
    {
     "data": {
      "text/html": [
       "[299] Liew, Mei Fong; Siow, Wen Ting; Yau, Ying Wei; See, Kay Choong. \"Safe patient transport for COVID-19.\" <i>Critical care (London, England)</i> 24, no. 1 (2020): 94."
      ],
      "text/plain": [
       "<IPython.core.display.HTML object>"
      ]
     },
     "metadata": {},
     "output_type": "display_data"
    },
    {
     "data": {
      "text/html": [
       "[300] Nguyen, Trieu; Duong Bang, Dang; Wolff, Anders. \"2019 Novel Coronavirus Disease (COVID-19): Paving the Road for Rapid Detection and Point-of-Care Diagnostics.\" <i>Micromachines</i> 11, no. 3 (2020)."
      ],
      "text/plain": [
       "<IPython.core.display.HTML object>"
      ]
     },
     "metadata": {},
     "output_type": "display_data"
    },
    {
     "data": {
      "text/html": [
       "[301] Kuniya, Toshikazu. \"Prediction of the Epidemic Peak of Coronavirus Disease in Japan, 2020.\" <i>Journal of clinical medicine</i> 9, no. 3 (2020)."
      ],
      "text/plain": [
       "<IPython.core.display.HTML object>"
      ]
     },
     "metadata": {},
     "output_type": "display_data"
    },
    {
     "data": {
      "text/html": [
       "[302] Yu, Hao; Sun, Xu; Solvang, Wei Deng; Zhao, Xu. \"Reverse Logistics Network Design for Effective Management of Medical Waste in Epidemic Outbreaks: Insights from the Coronavirus Disease 2019 (COVID-19) Outbreak in Wuhan (China).\" <i>International journal of environmental research and public health</i> 17, no. 5 (2020)."
      ],
      "text/plain": [
       "<IPython.core.display.HTML object>"
      ]
     },
     "metadata": {},
     "output_type": "display_data"
    },
    {
     "data": {
      "text/html": [
       "[303] Liu, Zhihua; Magal, Pierre; Seydi, Ousmane; Webb, Glenn. \"Understanding Unreported Cases in the COVID-19 Epidemic Outbreak in Wuhan, China, and the Importance of Major Public Health Interventions.\" <i>Biology</i> 9, no. 3 (2020)."
      ],
      "text/plain": [
       "<IPython.core.display.HTML object>"
      ]
     },
     "metadata": {},
     "output_type": "display_data"
    },
    {
     "data": {
      "text/html": [
       "[304] Fan, Cuifang; Lei, Di; Fang, Congcong; Li, Chunyan; Wang, Ming; Liu, Yuling; Bao, Yan; Sun, Yanmei; Huang, Jinfa; Guo, Yuping; Yu, Ying; Wang, Suqing. \"Perinatal Transmission of COVID-19 Associated SARS-CoV-2: Should We Worry?\" <i>Clinical infectious diseases : an official publication of the Infectious Diseases</i> (2020)."
      ],
      "text/plain": [
       "<IPython.core.display.HTML object>"
      ]
     },
     "metadata": {},
     "output_type": "display_data"
    },
    {
     "data": {
      "text/html": [
       "[305] Tam, Chor-Cheung Frankie; Cheung, Kent-Shek; Lam, Simon; Wong, Anthony; Yung, Arthur; Sze, Michael; Lam, Yui-Ming; Chan, Carmen; Tsang, Tat-Chi; Tsui, Matthew; Tse, Hung-Fat; Siu, Chung-Wah. \"Impact of Coronavirus Disease 2019 (COVID-19) Outbreak on ST-Segment-Elevation Myocardial Infarction Care in Hong Kong, China.\" <i>Circulation. Cardiovascular quality and outcomes</i> (2020): CIRCOUTCOMES120006631."
      ],
      "text/plain": [
       "<IPython.core.display.HTML object>"
      ]
     },
     "metadata": {},
     "output_type": "display_data"
    },
    {
     "data": {
      "text/html": [
       "[306] Zhu, Lan; Xu, Xizhen; Ma, Ke; Yang, Junling; Guan, Hanxiong; Chen, Song; Chen, Zhishui; Chen, Gang. \"Successful recovery of COVID-19 pneumonia in a renal transplant recipient with long-term immunosuppression.\" <i>American journal of transplantation : official journal of the American Society of</i> (2020)."
      ],
      "text/plain": [
       "<IPython.core.display.HTML object>"
      ]
     },
     "metadata": {},
     "output_type": "display_data"
    },
    {
     "data": {
      "text/html": [
       "[307] Andrea, Gori; Daniele, Dondossola; Barbara, Antonelli; Davide, Mangioni; Laura, Alagna; Paolo, Reggiani; Alessandra, Bandera; Giorgio, Rossi. \"Coronavirus Disease 2019 and Transplantation: a view from the inside.\" <i>American journal of transplantation : official journal of the American Society of</i> (2020)."
      ],
      "text/plain": [
       "<IPython.core.display.HTML object>"
      ]
     },
     "metadata": {},
     "output_type": "display_data"
    },
    {
     "data": {
      "text/html": [
       "[308] Gao, Yong; Li, Tuantuan; Han, Mingfeng; Li, Xiuyong; Wu, Dong; Xu, Yuanhong; Zhu, Yulin; Liu, Yan; Wang, Xiaowu; Wang, Linding. \"Diagnostic Utility of Clinical Laboratory Data Determinations for Patients with the Severe COVID-19.\" <i>Journal of medical virology</i> (2020)."
      ],
      "text/plain": [
       "<IPython.core.display.HTML object>"
      ]
     },
     "metadata": {},
     "output_type": "display_data"
    },
    {
     "data": {
      "text/html": [
       "[309] Jiao, Jian. \"Under the epidemic situation of COVID-19, should special attention to pregnant women be given?\" <i>Journal of medical virology</i> (2020)."
      ],
      "text/plain": [
       "<IPython.core.display.HTML object>"
      ]
     },
     "metadata": {},
     "output_type": "display_data"
    },
    {
     "data": {
      "text/html": [
       "[310] Qu, Rong; Ling, Yun; Zhang, Yi-Huizhi; Wei, Li-Ya; Chen, Xiao; Li, Xumian; Liu, Xuan-Yong; Liu, Han-Mian; Guo, Zhi; Ren, Hua; Wang, Qiang. \"Platelet-to-lymphocyte ratio is associated with prognosis in patients with Corona Virus Disease-19.\" <i>Journal of medical virology</i> (2020)."
      ],
      "text/plain": [
       "<IPython.core.display.HTML object>"
      ]
     },
     "metadata": {},
     "output_type": "display_data"
    },
    {
     "data": {
      "text/html": [
       "[311] Wendelboe, Aaron M; Miller, Amanda; Drevets, Douglas; Salinas, Linda; Miller, E J; Jackson, Dalton; Chou, Ann; Raines, Jill. \"Tabletop exercise to prepare institutions of higher education for an outbreak of COVID-19.\" <i>Journal of emergency management (Weston, Mass.)</i> 18, no. 2 (2020): S1-S20."
      ],
      "text/plain": [
       "<IPython.core.display.HTML object>"
      ]
     },
     "metadata": {},
     "output_type": "display_data"
    },
    {
     "data": {
      "text/html": [
       "[312] Wendelboe, Aaron M; Miller, Amanda; Drevets, Douglas; Salinas, Linda; Miller, E J; Jackson, Dalton; Chou, Ann; Raines, Jill. \"Tabletop exercise to prepare institutions of higher education for an outbreak of COVID-19.\" <i>Journal of emergency management (Weston, Mass.)</i> 18, no. 2 (2020): 183-184."
      ],
      "text/plain": [
       "<IPython.core.display.HTML object>"
      ]
     },
     "metadata": {},
     "output_type": "display_data"
    },
    {
     "data": {
      "text/html": [
       "[313] Contreras, George W. \"Getting ready for the next pandemic COVID-19: Why we need to be more prepared and less scared.\" <i>Journal of emergency management (Weston, Mass.)</i> 18, no. 2 (2020): 87-89."
      ],
      "text/plain": [
       "<IPython.core.display.HTML object>"
      ]
     },
     "metadata": {},
     "output_type": "display_data"
    },
    {
     "data": {
      "text/html": [
       "[314] Qian, Guo-Qing; Yang, Nai-Bin; Ding, Feng; Ma, Ada Hoi Yan; Wang, Zong-Yi; Shen, Yue-Fei; Shi, Chun-Wei; Lian, Xiang; Chu, Jin-Guo; Chen, Lei; Wang, Zhi-Yu; Ren, Da-Wei; Li, Guo-Xiang; Chen, Xue-Qin; Shen, Hua-Jiang; Chen, Xiao-Min. \"Epidemiologic and Clinical Characteristics of 91 Hospitalized Patients with COVID-19 in Zhejiang, China: A retrospective, multi-centre case series.\" <i>QJM : monthly journal of the Association of Physicians</i> (2020)."
      ],
      "text/plain": [
       "<IPython.core.display.HTML object>"
      ]
     },
     "metadata": {},
     "output_type": "display_data"
    },
    {
     "data": {
      "text/html": [
       "[315] Livingston, Edward; Bucher, Karen. \"Coronavirus Disease 2019 (COVID-19) in Italy.\" <i>JAMA</i> (2020)."
      ],
      "text/plain": [
       "<IPython.core.display.HTML object>"
      ]
     },
     "metadata": {},
     "output_type": "display_data"
    },
    {
     "data": {
      "text/html": [
       "[316] Elkind, Mitchell S; Harrington, Robert A; Benjamin, Ivor J. \"Role of the American Heart Association in the Global COVID-19 Pandemic.\" <i>Circulation</i> (2020)."
      ],
      "text/plain": [
       "<IPython.core.display.HTML object>"
      ]
     },
     "metadata": {},
     "output_type": "display_data"
    },
    {
     "data": {
      "text/html": [
       "[317] Han, Rui; Huang, Lu; Jiang, Hong; Dong, Jin; Peng, Hongfen; Zhang, Dongyou. \"Early Clinical and CT Manifestations of Coronavirus Disease 2019 (COVID-19) Pneumonia.\" <i>AJR. American journal of roentgenology</i> (2020): 1-6."
      ],
      "text/plain": [
       "<IPython.core.display.HTML object>"
      ]
     },
     "metadata": {},
     "output_type": "display_data"
    },
    {
     "data": {
      "text/html": [
       "[318] Hunter, Philip. \"The spread of the COVID-19 coronavirus: Health agencies worldwide prepare for the seemingly inevitability of the COVID-19 coronavirus becoming endemic.\" <i>EMBO reports</i> (2020): e50334."
      ],
      "text/plain": [
       "<IPython.core.display.HTML object>"
      ]
     },
     "metadata": {},
     "output_type": "display_data"
    },
    {
     "data": {
      "text/html": [
       "[319] Lau, Hien; Khosrawipour, Veria; Kocbach, Piotr; Mikolajczyk, Agata; Schubert, Justyna; Bania, Jacek; Khosrawipour, Tanja. \"The positive impact of lockdown in Wuhan on containing the COVID-19 outbreak in China.\" <i>Journal of travel medicine</i> (2020)."
      ],
      "text/plain": [
       "<IPython.core.display.HTML object>"
      ]
     },
     "metadata": {},
     "output_type": "display_data"
    },
    {
     "data": {
      "text/html": [
       "[320] Zhong, Ping; Guo, Songxue; Chen, Ting. \"Correlation between travellers departing from Wuhan before the Spring Festival and subsequent spread of COVID-19 to all provinces in China.\" <i>Journal of travel medicine</i> (2020)."
      ],
      "text/plain": [
       "<IPython.core.display.HTML object>"
      ]
     },
     "metadata": {},
     "output_type": "display_data"
    },
    {
     "data": {
      "text/html": [
       "[321] Benvenuto, Domenico; Giovanetti, Marta; Vassallo, Lazzaro; Angeletti, Silvia; Ciccozzi, Massimo. \"Application of the ARIMA model on the COVID-2019 epidemic dataset.\" <i>Data in brief</i> 29, (2020): 105340."
      ],
      "text/plain": [
       "<IPython.core.display.HTML object>"
      ]
     },
     "metadata": {},
     "output_type": "display_data"
    },
    {
     "data": {
      "text/html": [
       "[322] Schwartz, David A. \"An Analysis of 38 Pregnant Women with COVID-19, Their Newborn Infants, and Maternal-Fetal Transmission of SARS-CoV-2: Maternal Coronavirus Infections and Pregnancy Outcomes.\" <i>Archives of pathology & laboratory medicine</i> (2020)."
      ],
      "text/plain": [
       "<IPython.core.display.HTML object>"
      ]
     },
     "metadata": {},
     "output_type": "display_data"
    },
    {
     "data": {
      "text/html": [
       "[323] Mullins, E; Evans, D; Viner, R M; O'Brien, P; Morris, E. \"Coronavirus in pregnancy and delivery: rapid review.\" <i>Ultrasound in obstetrics & gynecology : the official journal of the International</i> (2020)."
      ],
      "text/plain": [
       "<IPython.core.display.HTML object>"
      ]
     },
     "metadata": {},
     "output_type": "display_data"
    },
    {
     "data": {
      "text/html": [
       "[324] Dholaria, Bhagirathbhai; Savani, Bipin N. \"How do we plan hematopoietic cell transplant and cellular therapy with the looming COVID-19 threat?\" <i>British journal of haematology</i> (2020)."
      ],
      "text/plain": [
       "<IPython.core.display.HTML object>"
      ]
     },
     "metadata": {},
     "output_type": "display_data"
    },
    {
     "data": {
      "text/html": [
       "[325] Chen, Rong; Zhang, Yuan; Huang, Lei; Cheng, Bi-Heng; Xia, Zhong-Yuan; Meng, Qing-Tao. \"Safety and efficacy of different anesthetic regimens for parturients with COVID-19 undergoing Cesarean delivery: a case series of 17 patients.\" <i>Canadian journal of anaesthesia = Journal canadien d'anesthesie</i> (2020)."
      ],
      "text/plain": [
       "<IPython.core.display.HTML object>"
      ]
     },
     "metadata": {},
     "output_type": "display_data"
    },
    {
     "data": {
      "text/html": [
       "[326] Aminnejad, Reza; Salimi, Alireza; Saeidi, Mohammad. \"Lidocaine during intubation and extubation in patients with coronavirus disease (COVID-19).\" <i>Canadian journal of anaesthesia = Journal canadien d'anesthesie</i> (2020)."
      ],
      "text/plain": [
       "<IPython.core.display.HTML object>"
      ]
     },
     "metadata": {},
     "output_type": "display_data"
    },
    {
     "data": {
      "text/html": [
       "[327] Federico, Antonio. \"Brain Awareness Week, CoVID-19 infection and Neurological Sciences.\" <i>Neurological sciences : official journal of the Italian Neurological Society and</i> (2020)."
      ],
      "text/plain": [
       "<IPython.core.display.HTML object>"
      ]
     },
     "metadata": {},
     "output_type": "display_data"
    },
    {
     "data": {
      "text/html": [
       "[328] Ji, Li-Na; Chao, Shuang; Wang, Yue-Jiao; Li, Xue-Jun; Mu, Xiang-Dong; Lin, Ming-Gui; Jiang, Rong-Meng. \"Clinical features of pediatric patients with COVID-19: a report of two family cluster cases.\" <i>World journal of pediatrics : WJP</i> (2020)."
      ],
      "text/plain": [
       "<IPython.core.display.HTML object>"
      ]
     },
     "metadata": {},
     "output_type": "display_data"
    },
    {
     "data": {
      "text/html": [
       "[329] Wang, Yanrong; Liu, Yingxia; Liu, Lei; Wang, Xianfeng; Luo, Nijuan; Ling, Li. \"Clinical outcome of 55 asymptomatic cases at the time of hospital admission infected with SARS-Coronavirus-2 in Shenzhen, China.\" <i>The Journal of infectious diseases</i> (2020)."
      ],
      "text/plain": [
       "<IPython.core.display.HTML object>"
      ]
     },
     "metadata": {},
     "output_type": "display_data"
    },
    {
     "data": {
      "text/html": [
       "[330] Cui, Yuxia; Tian, Maolu; Huang, Dong; Wang, Xike; Huang, Yuying; Fan, Li; Wang, Liang; Chen, Yun; Liu, Wenpu; Zhang, Kai; Wu, Yue; Yang, Zhenzhong; Tao, Jing; Feng, Jie; Liu, Kaiyu; Ye, Xianwei; Wang, Rongpin; Zhang, Xiangyan; Zha, Yan. \"A 55-Day-Old Female Infant infected with COVID 19: presenting with pneumonia, liver injury, and heart damage.\" <i>The Journal of infectious diseases</i> (2020)."
      ],
      "text/plain": [
       "<IPython.core.display.HTML object>"
      ]
     },
     "metadata": {},
     "output_type": "display_data"
    },
    {
     "data": {
      "text/html": [
       "[331] Ran, Li; Chen, Xuyu; Wang, Ying; Wu, Wenwen; Zhang, Ling; Tan, Xiaodong. \"Risk Factors of Healthcare Workers with Corona Virus Disease 2019: A Retrospective Cohort Study in a Designated Hospital of Wuhan in China.\" <i>Clinical infectious diseases : an official publication of the Infectious Diseases</i> (2020)."
      ],
      "text/plain": [
       "<IPython.core.display.HTML object>"
      ]
     },
     "metadata": {},
     "output_type": "display_data"
    },
    {
     "data": {
      "text/html": [
       "[332] Jiang, Shibo. \"Don't rush to deploy COVID-19 vaccines and drugs without sufficient safety guarantees.\" <i>Nature</i> 579, no. 7799 (2020): 321."
      ],
      "text/plain": [
       "<IPython.core.display.HTML object>"
      ]
     },
     "metadata": {},
     "output_type": "display_data"
    },
    {
     "data": {
      "text/html": [
       "[333] . \"COVID-19 in Children: Initial Characterization of the Pediatric Disease.\" <i>Pediatrics</i> (2020)."
      ],
      "text/plain": [
       "<IPython.core.display.HTML object>"
      ]
     },
     "metadata": {},
     "output_type": "display_data"
    },
    {
     "data": {
      "text/html": [
       "[334] Mahase, Elisabeth. \"Covid-19: outbreak could last until spring 2021 and see 7.9 million hospitalised in the UK.\" <i>BMJ (Clinical research ed.)</i> 368, (2020): m1071."
      ],
      "text/plain": [
       "<IPython.core.display.HTML object>"
      ]
     },
     "metadata": {},
     "output_type": "display_data"
    },
    {
     "data": {
      "text/html": [
       "[335] Iacobucci, Gareth. \"Covid-19: medical schools are urged to fast-track final year students.\" <i>BMJ (Clinical research ed.)</i> 368, (2020): m1064."
      ],
      "text/plain": [
       "<IPython.core.display.HTML object>"
      ]
     },
     "metadata": {},
     "output_type": "display_data"
    },
    {
     "data": {
      "text/html": [
       "[336] Paterlini, Marta. \"On the front lines of coronavirus: the Italian response to covid-19.\" <i>BMJ (Clinical research ed.)</i> 368, (2020): m1065."
      ],
      "text/plain": [
       "<IPython.core.display.HTML object>"
      ]
     },
     "metadata": {},
     "output_type": "display_data"
    },
    {
     "data": {
      "text/html": [
       "[337] Rimmer, Abi. \"Covid-19: junior doctor calls on colleagues to gather supplies for staff working long hours.\" <i>BMJ (Clinical research ed.)</i> 368, (2020): m1072."
      ],
      "text/plain": [
       "<IPython.core.display.HTML object>"
      ]
     },
     "metadata": {},
     "output_type": "display_data"
    },
    {
     "data": {
      "text/html": [
       "[338] Asmundson, Gordon J G; Taylor, Steven. \"How health anxiety influences responses to viral outbreaks like COVID-19: What all decision-makers, health authorities, and health care professionals need to know.\" <i>Journal of anxiety disorders</i> 71, (2020): 102211."
      ],
      "text/plain": [
       "<IPython.core.display.HTML object>"
      ]
     },
     "metadata": {},
     "output_type": "display_data"
    },
    {
     "data": {
      "text/html": [
       "[339] Baron, Sophie Alexandra; Devaux, Christian; Colson, Philippe; Raoult, Didier; Rolain, Jean-Marc. \"Teicoplanin: an alternative drug for the treatment of coronavirus COVID-19?\" <i>International journal of antimicrobial agents</i> (2020): 105944."
      ],
      "text/plain": [
       "<IPython.core.display.HTML object>"
      ]
     },
     "metadata": {},
     "output_type": "display_data"
    },
    {
     "data": {
      "text/html": [
       "[340] Xu, Tianmin; Chen, Cong; Zhu, Zhen; Cui, Manman; Chen, Chunhua; Dai, Hong; Xue, Yuan. \"Clinical features and dynamics of viral load in imported and non-imported patients with COVID-19.\" <i>International journal of infectious diseases : IJID : official publication of the</i> (2020)."
      ],
      "text/plain": [
       "<IPython.core.display.HTML object>"
      ]
     },
     "metadata": {},
     "output_type": "display_data"
    },
    {
     "data": {
      "text/html": [
       "[341] Nishiura, Hiroshi; Kobayashi, Tetsuro; Suzuki, Ayako; Jung, Sung-Mok; Hayashi, Katsuma; Kinoshita, Ryo; Yang, Yichi; Yuan, Baoyin; Akhmetzhanov, Andrei R; Linton, Natalie M; Miyama, Takeshi. \"Estimation of the asymptomatic ratio of novel coronavirus infections (COVID-19).\" <i>International journal of infectious diseases : IJID : official publication of the</i> (2020)."
      ],
      "text/plain": [
       "<IPython.core.display.HTML object>"
      ]
     },
     "metadata": {},
     "output_type": "display_data"
    },
    {
     "data": {
      "text/html": [
       "[342] Wang, Aihong; Zhao, Weibo; Xu, Zhangrong; Gu, Jianwen. \"Timely blood glucose management for the outbreak of 2019 novel coronavirus disease (COVID-19) is urgently needed.\" <i>Diabetes research and clinical practice</i> (2020): 108118."
      ],
      "text/plain": [
       "<IPython.core.display.HTML object>"
      ]
     },
     "metadata": {},
     "output_type": "display_data"
    },
    {
     "data": {
      "text/html": [
       "[343] Lagier, Jean Christophe; Colson, Philippe; Tissot Dupont, Herve; Salomon, Jerome; Doudier, Barbara; Aubry, Camille; Gouriet, Frederique; Baron, Sophie; Dudouet, Pierre; Flores, Remi; Ailhaud, Lucie; Gautret, Philippe; Parola, Philippe; La Scola, Bernard; Raoult, Didier; Brouqui, Philippe. \"Testing the repatriated for SARS-Cov2: Should laboratory-based quarantine replace traditional quarantine?\" <i>Travel medicine and infectious disease</i> (2020): 101624."
      ],
      "text/plain": [
       "<IPython.core.display.HTML object>"
      ]
     },
     "metadata": {},
     "output_type": "display_data"
    },
    {
     "data": {
      "text/html": [
       "[344] Rodriguez-Morales, Alfonso J; Cardona-Ospina, Jaime A; Gutierrez-Ocampo, Estefania; Villamizar-Pena, Rhuvi; Holguin-Rivera, Yeimer; Escalera-Antezana, Juan Pablo; Alvarado-Arnez, Lucia Elena; Bonilla-Aldana, D Katterine; Franco-Paredes, Carlos; Henao-Martinez, Andres F; Paniz-Mondolfi, Alberto; Lagos-Grisales, Guillermo J; Ramirez-Vallejo, Eduardo; Suarez, Jose A; Zambrano, Lysien I; Villamil-Gomez, Wilmer E; Balbin-Ramon, Graciela J; Rabaan, Ali A; Harapan, Harapan; Dhama, Kuldeep; Nishiura, Hiroshi; Kataoka, Hiromitsu; Ahmad, Tauseef; Sah, Ranjit. \"Clinical, laboratory and imaging features of COVID-19: A systematic review and meta-analysis.\" <i>Travel medicine and infectious disease</i> (2020): 101623."
      ],
      "text/plain": [
       "<IPython.core.display.HTML object>"
      ]
     },
     "metadata": {},
     "output_type": "display_data"
    },
    {
     "data": {
      "text/html": [
       "[345] Hao, Wendong; Li, Manxiang. \"Clinical diagnostic value of CT imaging in COVID-19 with multiple negative RT-PCR testing.\" <i>Travel medicine and infectious disease</i> (2020): 101627."
      ],
      "text/plain": [
       "<IPython.core.display.HTML object>"
      ]
     },
     "metadata": {},
     "output_type": "display_data"
    },
    {
     "data": {
      "text/html": [
       "[346] Repici, Alessandro; Maselli, Roberta; Colombo, Matteo; Gabbiadini, Roberto; Spadaccini, Marco; Anderloni, Andrea; Carrara, Silvia; Fugazza, Alessandro; Di Leo, Milena; Galtieri, Piera Alessia; Pellegatta, Gaia; Ferrara, Elisa Chiara; Azzolini, Elena; Lagioia, Michele. \"Coronavirus (COVID-19) outbreak: what the department of endoscopy should know.\" <i>Gastrointestinal endoscopy</i> (2020)."
      ],
      "text/plain": [
       "<IPython.core.display.HTML object>"
      ]
     },
     "metadata": {},
     "output_type": "display_data"
    },
    {
     "data": {
      "text/html": [
       "[347] Lippi, Giuseppe; Plebani, Mario; Michael Henry, Brandon. \"Thrombocytopenia is associated with severe coronavirus disease 2019 (COVID-19) infections: A meta-analysis.\" <i>Clinica chimica acta; international journal of clinical chemistry</i> (2020)."
      ],
      "text/plain": [
       "<IPython.core.display.HTML object>"
      ]
     },
     "metadata": {},
     "output_type": "display_data"
    },
    {
     "data": {
      "text/html": [
       "[348] Zhao, Shuai; Ling, Ken; Yan, Hong; Zhong, Liang; Peng, Xiaohong; Yao, Shanglong; Huang, Jiapeng; Chen, Xiangdong. \"Anesthetic Management of Patients With Suspected or Confirmed 2019 Novel Coronavirus Infection During Emergency Procedures.\" <i>Journal of cardiothoracic and vascular anesthesia</i> (2020)."
      ],
      "text/plain": [
       "<IPython.core.display.HTML object>"
      ]
     },
     "metadata": {},
     "output_type": "display_data"
    },
    {
     "data": {
      "text/html": [
       "[349] Henry, Brandon Michael. \"COVID-19, ECMO, and lymphopenia: a word of caution.\" <i>The Lancet. Respiratory medicine</i> (2020)."
      ],
      "text/plain": [
       "<IPython.core.display.HTML object>"
      ]
     },
     "metadata": {},
     "output_type": "display_data"
    },
    {
     "data": {
      "text/html": [
       "[350] Remuzzi, Andrea; Remuzzi, Giuseppe. \"COVID-19 and Italy: what next?\" <i>Lancet (London, England)</i> (2020)."
      ],
      "text/plain": [
       "<IPython.core.display.HTML object>"
      ]
     },
     "metadata": {},
     "output_type": "display_data"
    },
    {
     "data": {
      "text/html": [
       "[351] Ghinai, Isaac; McPherson, Tristan D; Hunter, Jennifer C; Kirking, Hannah L; Christiansen, Demian; Joshi, Kiran; Rubin, Rachel; Morales-Estrada, Shirley; Black, Stephanie R; Pacilli, Massimo; Fricchione, Marielle J; Chugh, Rashmi K; Walblay, Kelly A; Ahmed, N Seema; Stoecker, William C; Hasan, Nausheen F; Burdsall, Deborah P; Reese, Heather E; Wallace, Megan; Wang, Chen; Moeller, Darcie; Korpics, Jacqueline; Novosad, Shannon A; Benowitz, Isaac; Jacobs, Max W; Dasari, Vishal S; Patel, Megan T; Kauerauf, Judy; Charles, E Matt; Ezike, Ngozi O; Chu, Victoria; Midgley, Claire M; Rolfes, Melissa A; Gerber, Susan I; Lu, Xiaoyan; Lindstrom, Stephen; Verani, Jennifer R; Layden, Jennifer E. \"First known person-to-person transmission of severe acute respiratory syndrome coronavirus 2 (SARS-CoV-2) in the USA.\" <i>Lancet (London, England)</i> (2020)."
      ],
      "text/plain": [
       "<IPython.core.display.HTML object>"
      ]
     },
     "metadata": {},
     "output_type": "display_data"
    },
    {
     "data": {
      "text/html": [
       "[352] Green, Manfred S. \"Did the hesitancy in declaring COVID-19 a pandemic reflect a need to redefine the term?\" <i>Lancet (London, England)</i> (2020)."
      ],
      "text/plain": [
       "<IPython.core.display.HTML object>"
      ]
     },
     "metadata": {},
     "output_type": "display_data"
    },
    {
     "data": {
      "text/html": [
       "[353] The Lancet Infectious Diseases. \"COVID-19, a pandemic or not?\" <i>The Lancet. Infectious diseases</i> (2020)."
      ],
      "text/plain": [
       "<IPython.core.display.HTML object>"
      ]
     },
     "metadata": {},
     "output_type": "display_data"
    },
    {
     "data": {
      "text/html": [
       "[354] Vincent, Jean-Louis; Slutsky, Arthur S. \"Coronavirus: just imagine....\" <i>Critical care (London, England)</i> 24, no. 1 (2020): 90."
      ],
      "text/plain": [
       "<IPython.core.display.HTML object>"
      ]
     },
     "metadata": {},
     "output_type": "display_data"
    },
    {
     "data": {
      "text/html": [
       "[355] Cunningham, Anne Catherine; Goh, Hui Poh; Koh, David. \"Treatment of COVID-19: old tricks for new challenges.\" <i>Critical care (London, England)</i> 24, no. 1 (2020): 91."
      ],
      "text/plain": [
       "<IPython.core.display.HTML object>"
      ]
     },
     "metadata": {},
     "output_type": "display_data"
    },
    {
     "data": {
      "text/html": [
       "[356] Vankadari, Naveen; Wilce, Jacqueline A. \"Emerging WuHan (COVID-19) coronavirus: glycan shield and structure prediction of spike glycoprotein and its interaction with human CD26.\" <i>Emerging microbes & infections</i> 9, no. 1 (2020): 601-604."
      ],
      "text/plain": [
       "<IPython.core.display.HTML object>"
      ]
     },
     "metadata": {},
     "output_type": "display_data"
    },
    {
     "data": {
      "text/html": [
       "[357] Yang, Geliang; Zhang, Huiqing; Yang, Yufei. \"Challenges and Countermeasures of Integrative Cancer Therapy in the Epidemic of COVID-19.\" <i>Integrative cancer therapies</i> 19, (2020): 1534735420912811."
      ],
      "text/plain": [
       "<IPython.core.display.HTML object>"
      ]
     },
     "metadata": {},
     "output_type": "display_data"
    },
    {
     "data": {
      "text/html": [
       "[358] Neher, Richard A; Dyrdak, Robert; Druelle, Valentin; Hodcroft, Emma B; Albert, Jan. \"Potential impact of seasonal forcing on a SARS-CoV-2 pandemic.\" <i>Swiss medical weekly</i> 150, (2020): w20224."
      ],
      "text/plain": [
       "<IPython.core.display.HTML object>"
      ]
     },
     "metadata": {},
     "output_type": "display_data"
    },
    {
     "data": {
      "text/html": [
       "[359] Bauchner, Howard; Golub, Robert M; Zylke, Jody. \"Editorial Concern-Possible Reporting of the Same Patients With COVID-19 in Different Reports.\" <i>JAMA</i> (2020)."
      ],
      "text/plain": [
       "<IPython.core.display.HTML object>"
      ]
     },
     "metadata": {},
     "output_type": "display_data"
    },
    {
     "data": {
      "text/html": [
       "[360] Wang, Zhongliang; Yang, Bohan; Li, Qianwen; Wen, Lu; Zhang, Ruiguang. \"Clinical Features of 69 Cases with Coronavirus Disease 2019 in Wuhan, China.\" <i>Clinical infectious diseases : an official publication of the Infectious Diseases</i> (2020)."
      ],
      "text/plain": [
       "<IPython.core.display.HTML object>"
      ]
     },
     "metadata": {},
     "output_type": "display_data"
    },
    {
     "data": {
      "text/html": [
       "[361] Hopman, Joost; Allegranzi, Benedetta; Mehtar, Shaheen. \"\" <i>JAMA</i> (2020)."
      ],
      "text/plain": [
       "<IPython.core.display.HTML object>"
      ]
     },
     "metadata": {},
     "output_type": "display_data"
    },
    {
     "data": {
      "text/html": [
       "[362] Cimolai, Nevio. \"Potentially repurposing adamantanes for COVID-19.\" <i>Journal of medical virology</i> (2020)."
      ],
      "text/plain": [
       "<IPython.core.display.HTML object>"
      ]
     },
     "metadata": {},
     "output_type": "display_data"
    },
    {
     "data": {
      "text/html": [
       "[363] Peng, Yuzhu; Zhou, Yi-Hua. \"Is novel coronavirus disease (COVID-19) transmitted through conjunctiva?\" <i>Journal of medical virology</i> (2020)."
      ],
      "text/plain": [
       "<IPython.core.display.HTML object>"
      ]
     },
     "metadata": {},
     "output_type": "display_data"
    },
    {
     "data": {
      "text/html": [
       "[364] Tuite, Ashleigh R; Bogoch, Isaac I; Sherbo, Ryan; Watts, Alexander; Fisman, David; Khan, Kamran. \"Estimation of Coronavirus Disease 2019 (COVID-19) Burden and Potential for International Dissemination of Infection From Iran.\" <i>Annals of internal medicine</i> (2020)."
      ],
      "text/plain": [
       "<IPython.core.display.HTML object>"
      ]
     },
     "metadata": {},
     "output_type": "display_data"
    },
    {
     "data": {
      "text/html": [
       "[365] Ng, Kangqi; Poon, Beng Hoong; Kiat Puar, Troy Hai; Shan Quah, Jessica Li; Loh, Wann Jia; Wong, Yu Jun; Tan, Thean Yen; Raghuram, Jagadesan. \"COVID-19 and the Risk to Health Care Workers: A Case Report.\" <i>Annals of internal medicine</i> (2020)."
      ],
      "text/plain": [
       "<IPython.core.display.HTML object>"
      ]
     },
     "metadata": {},
     "output_type": "display_data"
    },
    {
     "data": {
      "text/html": [
       "[366] Mossa-Basha, Mahmud; Meltzer, Carolyn C; Kim, Danny C; Tuite, Michael J; Kolli, K Pallav; Tan, Bien Soo. \"Radiology Department Preparedness for COVID-19: Radiology Scientific Expert Panel.\" <i>Radiology</i> (2020): 200988."
      ],
      "text/plain": [
       "<IPython.core.display.HTML object>"
      ]
     },
     "metadata": {},
     "output_type": "display_data"
    }
   ],
   "source": [
    "# first loop to go through all article\n",
    "while (df):\n",
    "\n",
    "    articleFAU = ''\n",
    "    articleTI = ''\n",
    "    articleJT = ''\n",
    "    articleVI = ''\n",
    "    articleIP = ''\n",
    "    articleDP = ''\n",
    "    articlePG = ''\n",
    "\n",
    "    # second loop to process a single article\n",
    "    while (df):\n",
    "        \n",
    "        # article end when we encounter a line with only a new-line character in it\n",
    "        if (df =='\\n'):\n",
    "            break\n",
    "        else:\n",
    "            # we process the line based on the four first characters\n",
    "            # based on patterns, we only want: FAU, TI, JT, VI, IP, DP, PG\n",
    "            # if it's not there, it's not there (put in blank)\n",
    "            df = pubmedfile.readline()\n",
    "            itemnumber+=1\n",
    "            \n",
    "            linesplit = df.rstrip().split('- ')\n",
    "            if (len(linesplit) == 2):\n",
    "                # process the line that have two components\n",
    "                # set up status\n",
    "                readTI = 0\n",
    "                \n",
    "                # start processing\n",
    "                if (linesplit[0].rstrip() == 'FAU'):\n",
    "                    # processing for article author(s)\n",
    "                    # notice the trailing '; ', this would be removed later at the post process\n",
    "                    articleFAU = articleFAU + linesplit[1] + \"; \"\n",
    "                \n",
    "                elif (linesplit[0].rstrip() == 'TI'):\n",
    "                    # processing for article title... may have more than one line\n",
    "                    articleTI = linesplit[1]\n",
    "                    readTI = 1\n",
    "                \n",
    "                elif (linesplit[0].rstrip() == 'JT'):\n",
    "                    # processing for journal title\n",
    "                    articleJT = linesplit[1]\n",
    "                    \n",
    "                elif (linesplit[0].rstrip() == 'VI'):\n",
    "                    # processing for journal volume\n",
    "                    articleVI = linesplit[1]\n",
    "                    \n",
    "                elif (linesplit[0].rstrip() == 'IP'):\n",
    "                    # processing for journal issue\n",
    "                    articleIP = linesplit[1]\n",
    "                    \n",
    "                elif (linesplit[0].rstrip() == 'DP'):\n",
    "                    # processing for journal publication date\n",
    "                    articleDP = linesplit[1][:4]\n",
    "                    \n",
    "                elif (linesplit[0].rstrip() == 'PG'):\n",
    "                    # processing for journal page\n",
    "                    articlePG = linesplit[1]\n",
    "                    \n",
    "            elif (len(linesplit) == 1):\n",
    "                # only one component, check if we're reading TI before.. if not pass\n",
    "                if (readTI==1):\n",
    "                    articleTI = articleTI + \" \" + linesplit[0].lstrip()\n",
    "                    \n",
    "            #else:\n",
    "                #print(\"Entry unknown\")\n",
    "                #print(\"%d - [%d] %s\" % (itemnumber, journalnumber, lineread.rstrip()))\n",
    "\n",
    "    # post processing prior to printing the article\n",
    "    articleFAU = articleFAU[:-2]\n",
    "    \n",
    "    # printing the article information\n",
    "    # not going to print article #0\n",
    "    if (articlenumber != 0):\n",
    "        \n",
    "        # assuming that these information would always be available: authors, title, and journal name\n",
    "        articleinfo = \"[%d] %s. \\\"%s\\\" <i>%s</i>\" % (articlenumber, articleFAU, articleTI, articleJT) \n",
    "        \n",
    "        # assuming that these information could be missing\n",
    "        if (articleVI != ''):\n",
    "            articleinfo = articleinfo + \" \" + articleVI + \",\"\n",
    "        if (articleIP != ''):\n",
    "            articleinfo = articleinfo + \" no. \" + articleIP \n",
    "        if (articleDP != ''):\n",
    "            articleinfo = articleinfo + \" (\" + articleDP + \")\"\n",
    "        if (articlePG != ''):\n",
    "            articleinfo = articleinfo + \": \" + articlePG\n",
    "        articleinfo += '.'\n",
    "        \n",
    "        # regular way .. we can print using print function\n",
    "        # print(articleinfo)\n",
    "        \n",
    "        # fancier way.. displaying as HTML\n",
    "        display(HTML(articleinfo))\n",
    "\n",
    "    # out of second loop, onto next journal\n",
    "    df = pubmedfile.readline()\n",
    "    articlenumber+=1\n",
    "\n",
    "# end of the file\n"
   ]
  },
  {
   "cell_type": "code",
   "execution_count": 76,
   "metadata": {},
   "outputs": [],
   "source": [
    "pubmedfile.close()"
   ]
  },
  {
   "cell_type": "code",
   "execution_count": null,
   "metadata": {},
   "outputs": [],
   "source": []
  }
 ],
 "metadata": {
  "kernelspec": {
   "display_name": "Python 3",
   "language": "python",
   "name": "python3"
  },
  "language_info": {
   "codemirror_mode": {
    "name": "ipython",
    "version": 3
   },
   "file_extension": ".py",
   "mimetype": "text/x-python",
   "name": "python",
   "nbconvert_exporter": "python",
   "pygments_lexer": "ipython3",
   "version": "3.7.7"
  }
 },
 "nbformat": 4,
 "nbformat_minor": 2
}
